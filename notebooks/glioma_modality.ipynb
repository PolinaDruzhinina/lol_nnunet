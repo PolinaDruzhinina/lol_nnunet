{
 "cells": [
  {
   "cell_type": "code",
   "execution_count": 1,
   "id": "14494c5f",
   "metadata": {},
   "outputs": [],
   "source": [
    "# import sys\n",
    "# !{sys.executable} -m pip install --user shap"
   ]
  },
  {
   "cell_type": "code",
   "execution_count": 100,
   "id": "5ef8b4cc",
   "metadata": {},
   "outputs": [],
   "source": [
    "import numpy as np\n",
    "import pandas as pd\n",
    "from pathlib import Path\n",
    "from tqdm import tqdm\n",
    "import time\n",
    "import itertools\n",
    "import matplotlib.gridspec as gridspec\n",
    "from mlxtend.plotting import plot_decision_regions\n",
    "from sklearn import metrics\n",
    "from sklearn.metrics import confusion_matrix, plot_confusion_matrix, mean_squared_error\n",
    "from sklearn.pipeline import make_pipeline\n",
    "from sklearn.preprocessing import  PolynomialFeatures,StandardScaler, MinMaxScaler\n",
    "from sklearn.random_projection import GaussianRandomProjection\n",
    "from sklearn.tree import DecisionTreeClassifier, ExtraTreeRegressor\n",
    "from sklearn.linear_model import LogisticRegression\n",
    "from sklearn.model_selection import cross_val_score, train_test_split, GridSearchCV, RandomizedSearchCV, KFold\n",
    "from sklearn.multiclass import OneVsRestClassifier,OneVsOneClassifier\n",
    "\n",
    "import matplotlib.pyplot as plt\n",
    "from matplotlib.colors import ListedColormap\n",
    "from sklearn.preprocessing import StandardScaler\n",
    "from sklearn.neural_network import MLPClassifier\n",
    "from sklearn.neighbors import KNeighborsClassifier\n",
    "from sklearn.svm import SVC\n",
    "from sklearn.gaussian_process import GaussianProcessClassifier\n",
    "from sklearn.gaussian_process.kernels import RBF\n",
    "from sklearn.tree import DecisionTreeClassifier\n",
    "from sklearn.ensemble import RandomForestClassifier, AdaBoostClassifier, RandomForestRegressor\n",
    "from sklearn.naive_bayes import GaussianNB\n",
    "from sklearn.discriminant_analysis import QuadraticDiscriminantAnalysis\n",
    "import shap\n",
    "from scipy import stats\n",
    "from joblib import dump, load"
   ]
  },
  {
   "cell_type": "code",
   "execution_count": 114,
   "id": "c294e591",
   "metadata": {},
   "outputs": [
    {
     "name": "stderr",
     "output_type": "stream",
     "text": [
      "Columns (0,8,23,29,34,38,39,44,45,47,53,54,56,57,60,65,66,67,69,71,72,73,74,76,80,81,83,84,85,89,95,101,102,107,109,110,111,114,116,117,119,126,134,135,138,139,140,143,144,146,147,149,154,155,158,165,166,168,169,172,175,178,186,188,189,192,193,194,195,197,199,202,203,204,205,206,207,208,211,212,221,226,227,228,231,233,238,242,243,249,262,263,265,266,267,268,269,271,273,274,280,286,287,288,289,291,294,296,297,298,299,304,305,306,307,308,310,311,314,316,317,318,319,320,321,324,325,326,327,328,333,334,335,336,337,338,341,342,343,347,348,349,350,351,352,355,356,358,359,360,361,362,363,365,366,367,368,369,371,372,373,375,376,377,378,379,380,381,382,387,390,392,397,403,414,415,416,419,420,428,429,440) have mixed types.Specify dtype option on import or set low_memory=False.\n"
     ]
    }
   ],
   "source": [
    "path_metadata = Path('/home/polina/private_datasets/glioma_burdenko/new_csv/meta_all.csv')\n",
    "df=pd.read_csv(path_metadata)\n",
    "df_mark=pd.read_excel('glioma_burdenko_data_cleaning.xlsx', sheet_name='modality_update')"
   ]
  },
  {
   "cell_type": "code",
   "execution_count": 11,
   "id": "11a72de7",
   "metadata": {},
   "outputs": [
    {
     "name": "stderr",
     "output_type": "stream",
     "text": [
      "100%|████████████████████████████████████████████████████████████████████████████████████████████████████████████████████████████████████████████| 2133/2133 [05:58<00:00,  5.95it/s]\n"
     ]
    }
   ],
   "source": [
    "train_df = pd.DataFrame(columns=['SeriesInstanceUID', 'RepetitionTime', 'EchoTime', 'FlipAngle', 'ContrastBolusAgent', 'Modality'])\n",
    "test_df= pd.DataFrame(columns=['SeriesInstanceUID', 'RepetitionTime', 'EchoTime', 'FlipAngle', 'ContrastBolusAgent'])\n",
    "\n",
    "for i in tqdm(range(len(df_mark))):\n",
    "    uid=df_mark.iloc[i]['SeriesInstanceUID IMAGE']\n",
    "    if not df[df['SeriesInstanceUID'] == uid].empty:\n",
    "        new_row = {'SeriesInstanceUID': uid, 'RepetitionTime':df[df['SeriesInstanceUID'] == uid]['RepetitionTime'].values[0], 'EchoTime':df[df['SeriesInstanceUID'] == uid]['EchoTime'].values[0], 'FlipAngle': df[df['SeriesInstanceUID'] == uid]['FlipAngle'].values[0],'ContrastBolusAgent':df[df['SeriesInstanceUID'] == uid]['ContrastBolusAgent'].values[0], 'Modality':df_mark.iloc[i]['Modality']}\n",
    "        train_df = train_df.append(new_row, ignore_index=True)"
   ]
  },
  {
   "cell_type": "code",
   "execution_count": 12,
   "id": "8b4d1e04",
   "metadata": {},
   "outputs": [],
   "source": [
    "# train_df.to_csv('train_df.csv')"
   ]
  },
  {
   "cell_type": "code",
   "execution_count": 13,
   "id": "6cff1d49",
   "metadata": {},
   "outputs": [],
   "source": [
    "df_without_nan=pd.read_csv('train_df.csv')\n",
    "df_without_nan.dropna(subset=['RepetitionTime'], inplace=True)\n",
    "df_without_nan.dropna(subset=['Modality'], inplace=True)\n",
    "df_without_nan = df_without_nan.drop(df_without_nan[df_without_nan['Modality']=='T1/T1c'].index)"
   ]
  },
  {
   "cell_type": "code",
   "execution_count": 15,
   "id": "23986ef7",
   "metadata": {},
   "outputs": [],
   "source": [
    "df_without_nan.loc[df_without_nan['ContrastBolusAgent'] !=None,'ContrastBolusAgent']=1\n",
    "df_without_nan.loc[df_without_nan['ContrastBolusAgent'] ==None,'ContrastBolusAgent']=0\n",
    "df_without_nan['EchoTime'] =df_without_nan['EchoTime'].fillna(0)\n",
    "df_without_nan['FlipAngle'] =df_without_nan['FlipAngle'].fillna(0)"
   ]
  },
  {
   "cell_type": "code",
   "execution_count": 16,
   "id": "ac8cbb2e",
   "metadata": {},
   "outputs": [
    {
     "data": {
      "text/html": [
       "<div>\n",
       "<style scoped>\n",
       "    .dataframe tbody tr th:only-of-type {\n",
       "        vertical-align: middle;\n",
       "    }\n",
       "\n",
       "    .dataframe tbody tr th {\n",
       "        vertical-align: top;\n",
       "    }\n",
       "\n",
       "    .dataframe thead th {\n",
       "        text-align: right;\n",
       "    }\n",
       "</style>\n",
       "<table border=\"1\" class=\"dataframe\">\n",
       "  <thead>\n",
       "    <tr style=\"text-align: right;\">\n",
       "      <th></th>\n",
       "      <th>Unnamed: 0</th>\n",
       "      <th>SeriesInstanceUID</th>\n",
       "      <th>RepetitionTime</th>\n",
       "      <th>EchoTime</th>\n",
       "      <th>FlipAngle</th>\n",
       "      <th>ContrastBolusAgent</th>\n",
       "      <th>Modality</th>\n",
       "    </tr>\n",
       "  </thead>\n",
       "  <tbody>\n",
       "    <tr>\n",
       "      <th>1</th>\n",
       "      <td>1</td>\n",
       "      <td>1.2.840.113619.2.244.6945.1127390.23777.142433...</td>\n",
       "      <td>9502.000000</td>\n",
       "      <td>123.120</td>\n",
       "      <td>90.0</td>\n",
       "      <td>1</td>\n",
       "      <td>Flair</td>\n",
       "    </tr>\n",
       "    <tr>\n",
       "      <th>2</th>\n",
       "      <td>2</td>\n",
       "      <td>1.3.46.670589.11.8002.5.0.7452.201609171236215...</td>\n",
       "      <td>11000.000000</td>\n",
       "      <td>140.000</td>\n",
       "      <td>90.0</td>\n",
       "      <td>1</td>\n",
       "      <td>Flair</td>\n",
       "    </tr>\n",
       "    <tr>\n",
       "      <th>5</th>\n",
       "      <td>5</td>\n",
       "      <td>1.3.46.670589.11.10507.5.0.752.201702201200089...</td>\n",
       "      <td>6894.250977</td>\n",
       "      <td>110.000</td>\n",
       "      <td>90.0</td>\n",
       "      <td>1</td>\n",
       "      <td>T2</td>\n",
       "    </tr>\n",
       "    <tr>\n",
       "      <th>6</th>\n",
       "      <td>6</td>\n",
       "      <td>1.3.46.670589.11.33489.5.0.4984.20160212150626...</td>\n",
       "      <td>7459.892090</td>\n",
       "      <td>100.000</td>\n",
       "      <td>90.0</td>\n",
       "      <td>1</td>\n",
       "      <td>T2</td>\n",
       "    </tr>\n",
       "    <tr>\n",
       "      <th>7</th>\n",
       "      <td>7</td>\n",
       "      <td>1.2.840.113619.2.275.10502719.2141559.24330.15...</td>\n",
       "      <td>7547.000000</td>\n",
       "      <td>98.400</td>\n",
       "      <td>90.0</td>\n",
       "      <td>1</td>\n",
       "      <td>T2</td>\n",
       "    </tr>\n",
       "    <tr>\n",
       "      <th>...</th>\n",
       "      <td>...</td>\n",
       "      <td>...</td>\n",
       "      <td>...</td>\n",
       "      <td>...</td>\n",
       "      <td>...</td>\n",
       "      <td>...</td>\n",
       "      <td>...</td>\n",
       "    </tr>\n",
       "    <tr>\n",
       "      <th>1753</th>\n",
       "      <td>1753</td>\n",
       "      <td>1.3.46.670589.11.20098.5.0.7800.20140322182033...</td>\n",
       "      <td>450.000214</td>\n",
       "      <td>15.000</td>\n",
       "      <td>69.0</td>\n",
       "      <td>1</td>\n",
       "      <td>T1c</td>\n",
       "    </tr>\n",
       "    <tr>\n",
       "      <th>1769</th>\n",
       "      <td>1769</td>\n",
       "      <td>1.3.12.2.1107.5.2.6.23898.30000015011912360918...</td>\n",
       "      <td>604.000000</td>\n",
       "      <td>10.000</td>\n",
       "      <td>90.0</td>\n",
       "      <td>1</td>\n",
       "      <td>T1</td>\n",
       "    </tr>\n",
       "    <tr>\n",
       "      <th>1770</th>\n",
       "      <td>1770</td>\n",
       "      <td>1.3.12.2.1107.5.2.6.23898.30000015011912360918...</td>\n",
       "      <td>500.000000</td>\n",
       "      <td>9.300</td>\n",
       "      <td>90.0</td>\n",
       "      <td>1</td>\n",
       "      <td>T1c</td>\n",
       "    </tr>\n",
       "    <tr>\n",
       "      <th>1777</th>\n",
       "      <td>1777</td>\n",
       "      <td>1.2.840.113619.2.312.6945.1127356.12758.136671...</td>\n",
       "      <td>9502.000000</td>\n",
       "      <td>126.684</td>\n",
       "      <td>90.0</td>\n",
       "      <td>1</td>\n",
       "      <td>Flair</td>\n",
       "    </tr>\n",
       "    <tr>\n",
       "      <th>1807</th>\n",
       "      <td>1807</td>\n",
       "      <td>1.2.840.113619.2.312.4120.8418826.12365.148903...</td>\n",
       "      <td>11.060000</td>\n",
       "      <td>4.636</td>\n",
       "      <td>13.0</td>\n",
       "      <td>1</td>\n",
       "      <td>T1c</td>\n",
       "    </tr>\n",
       "  </tbody>\n",
       "</table>\n",
       "<p>851 rows × 7 columns</p>\n",
       "</div>"
      ],
      "text/plain": [
       "      Unnamed: 0                                  SeriesInstanceUID  \\\n",
       "1              1  1.2.840.113619.2.244.6945.1127390.23777.142433...   \n",
       "2              2  1.3.46.670589.11.8002.5.0.7452.201609171236215...   \n",
       "5              5  1.3.46.670589.11.10507.5.0.752.201702201200089...   \n",
       "6              6  1.3.46.670589.11.33489.5.0.4984.20160212150626...   \n",
       "7              7  1.2.840.113619.2.275.10502719.2141559.24330.15...   \n",
       "...          ...                                                ...   \n",
       "1753        1753  1.3.46.670589.11.20098.5.0.7800.20140322182033...   \n",
       "1769        1769  1.3.12.2.1107.5.2.6.23898.30000015011912360918...   \n",
       "1770        1770  1.3.12.2.1107.5.2.6.23898.30000015011912360918...   \n",
       "1777        1777  1.2.840.113619.2.312.6945.1127356.12758.136671...   \n",
       "1807        1807  1.2.840.113619.2.312.4120.8418826.12365.148903...   \n",
       "\n",
       "      RepetitionTime  EchoTime  FlipAngle ContrastBolusAgent Modality  \n",
       "1        9502.000000   123.120       90.0                  1    Flair  \n",
       "2       11000.000000   140.000       90.0                  1    Flair  \n",
       "5        6894.250977   110.000       90.0                  1       T2  \n",
       "6        7459.892090   100.000       90.0                  1       T2  \n",
       "7        7547.000000    98.400       90.0                  1       T2  \n",
       "...              ...       ...        ...                ...      ...  \n",
       "1753      450.000214    15.000       69.0                  1      T1c  \n",
       "1769      604.000000    10.000       90.0                  1       T1  \n",
       "1770      500.000000     9.300       90.0                  1      T1c  \n",
       "1777     9502.000000   126.684       90.0                  1    Flair  \n",
       "1807       11.060000     4.636       13.0                  1      T1c  \n",
       "\n",
       "[851 rows x 7 columns]"
      ]
     },
     "execution_count": 16,
     "metadata": {},
     "output_type": "execute_result"
    }
   ],
   "source": [
    "df_without_nan"
   ]
  },
  {
   "cell_type": "code",
   "execution_count": 17,
   "id": "a7112887",
   "metadata": {},
   "outputs": [
    {
     "data": {
      "text/plain": [
       "(array(['Flair', 'T1', 'T1c', 'T2'], dtype=object),\n",
       " array([240, 156, 188, 267]))"
      ]
     },
     "execution_count": 17,
     "metadata": {},
     "output_type": "execute_result"
    }
   ],
   "source": [
    "np.unique(df_without_nan['Modality'],return_counts=True)"
   ]
  },
  {
   "cell_type": "code",
   "execution_count": 18,
   "id": "88c199e1",
   "metadata": {},
   "outputs": [
    {
     "name": "stdout",
     "output_type": "stream",
     "text": [
      "Nearest Neighbors\n",
      "              precision    recall  f1-score   support\n",
      "\n",
      "           0       0.96      0.96      0.96        70\n",
      "           1       0.96      0.96      0.96        79\n",
      "           2       0.56      0.53      0.54        47\n",
      "           3       0.65      0.67      0.66        60\n",
      "\n",
      "    accuracy                           0.81       256\n",
      "   macro avg       0.78      0.78      0.78       256\n",
      "weighted avg       0.81      0.81      0.81       256\n",
      "\n",
      "Accuracy: 0.8125\n",
      "Linear SVM\n",
      "              precision    recall  f1-score   support\n",
      "\n",
      "           0       0.92      0.79      0.85        70\n",
      "           1       0.83      0.91      0.87        79\n",
      "           2       0.61      0.60      0.60        47\n",
      "           3       0.67      0.70      0.68        60\n",
      "\n",
      "    accuracy                           0.77       256\n",
      "   macro avg       0.75      0.75      0.75       256\n",
      "weighted avg       0.77      0.77      0.77       256\n",
      "\n",
      "Accuracy: 0.76953125\n",
      "RBF SVM\n",
      "              precision    recall  f1-score   support\n",
      "\n",
      "           0       0.96      0.96      0.96        70\n",
      "           1       0.96      0.96      0.96        79\n",
      "           2       0.57      0.60      0.58        47\n",
      "           3       0.67      0.65      0.66        60\n",
      "\n",
      "    accuracy                           0.82       256\n",
      "   macro avg       0.79      0.79      0.79       256\n",
      "weighted avg       0.82      0.82      0.82       256\n",
      "\n",
      "Accuracy: 0.8203125\n",
      "Gaussian Process\n",
      "              precision    recall  f1-score   support\n",
      "\n",
      "           0       0.97      0.89      0.93        70\n",
      "           1       0.91      0.97      0.94        79\n",
      "           2       0.60      0.60      0.60        47\n",
      "           3       0.68      0.68      0.68        60\n",
      "\n",
      "    accuracy                           0.81       256\n",
      "   macro avg       0.79      0.78      0.79       256\n",
      "weighted avg       0.81      0.81      0.81       256\n",
      "\n",
      "Accuracy: 0.8125\n",
      "Decision Tree\n",
      "              precision    recall  f1-score   support\n",
      "\n",
      "           0       0.94      0.94      0.94        70\n",
      "           1       0.95      0.95      0.95        79\n",
      "           2       0.55      0.68      0.61        47\n",
      "           3       0.69      0.57      0.62        60\n",
      "\n",
      "    accuracy                           0.81       256\n",
      "   macro avg       0.78      0.78      0.78       256\n",
      "weighted avg       0.81      0.81      0.81       256\n",
      "\n",
      "Accuracy: 0.80859375\n",
      "Random Forest\n",
      "              precision    recall  f1-score   support\n",
      "\n",
      "           0       0.98      0.84      0.91        70\n",
      "           1       0.88      0.99      0.93        79\n",
      "           2       0.57      0.68      0.62        47\n",
      "           3       0.71      0.60      0.65        60\n",
      "\n",
      "    accuracy                           0.80       256\n",
      "   macro avg       0.78      0.78      0.78       256\n",
      "weighted avg       0.81      0.80      0.80       256\n",
      "\n",
      "Accuracy: 0.80078125\n",
      "Neural Net\n",
      "              precision    recall  f1-score   support\n",
      "\n",
      "           0       0.97      0.80      0.88        70\n",
      "           1       0.84      0.95      0.89        79\n",
      "           2       0.60      0.57      0.59        47\n",
      "           3       0.66      0.70      0.68        60\n",
      "\n",
      "    accuracy                           0.78       256\n",
      "   macro avg       0.77      0.76      0.76       256\n",
      "weighted avg       0.79      0.78      0.78       256\n",
      "\n",
      "Accuracy: 0.78125\n",
      "AdaBoost\n",
      "              precision    recall  f1-score   support\n",
      "\n",
      "           0       0.00      0.00      0.00        70\n",
      "           1       0.53      1.00      0.69        79\n",
      "           2       0.00      0.00      0.00        47\n",
      "           3       0.56      1.00      0.72        60\n",
      "\n",
      "    accuracy                           0.54       256\n",
      "   macro avg       0.27      0.50      0.35       256\n",
      "weighted avg       0.30      0.54      0.38       256\n",
      "\n",
      "Accuracy: 0.54296875\n",
      "Naive Bayes\n",
      "              precision    recall  f1-score   support\n",
      "\n",
      "           0       0.92      0.79      0.85        70\n",
      "           1       0.81      0.91      0.86        79\n",
      "           2       0.45      0.68      0.54        47\n",
      "           3       0.61      0.37      0.46        60\n",
      "\n",
      "    accuracy                           0.71       256\n",
      "   macro avg       0.70      0.69      0.68       256\n",
      "weighted avg       0.73      0.71      0.70       256\n",
      "\n",
      "Accuracy: 0.70703125\n"
     ]
    },
    {
     "name": "stderr",
     "output_type": "stream",
     "text": [
      "Precision and F-score are ill-defined and being set to 0.0 in labels with no predicted samples. Use `zero_division` parameter to control this behavior.\n",
      "Precision and F-score are ill-defined and being set to 0.0 in labels with no predicted samples. Use `zero_division` parameter to control this behavior.\n",
      "Precision and F-score are ill-defined and being set to 0.0 in labels with no predicted samples. Use `zero_division` parameter to control this behavior.\n"
     ]
    },
    {
     "data": {
      "image/png": "[encoded data removed]",
      "text/plain": [
       "<Figure size 432x288 with 1 Axes>"
      ]
     },
     "metadata": {
      "needs_background": "light"
     },
     "output_type": "display_data"
    }
   ],
   "source": [
    "names = [\"Nearest Neighbors\", \"Linear SVM\", \"RBF SVM\", \"Gaussian Process\",\n",
    "         \"Decision Tree\", \"Random Forest\", \"Neural Net\", \"AdaBoost\",\n",
    "         \"Naive Bayes\"]\n",
    "\n",
    "classifiers = [\n",
    "    KNeighborsClassifier(3),\n",
    "    SVC(kernel=\"linear\", C=0.025),\n",
    "    SVC(gamma=2, C=1),\n",
    "    GaussianProcessClassifier(1.0 * RBF(1.0)),\n",
    "    DecisionTreeClassifier(max_depth=5),\n",
    "    RandomForestClassifier(max_depth=5, n_estimators=10, max_features=1),\n",
    "    MLPClassifier(alpha=1, max_iter=1000),\n",
    "    AdaBoostClassifier(),\n",
    "    GaussianNB(),\n",
    "    QuadraticDiscriminantAnalysis()]\n",
    "X=df_without_nan[['RepetitionTime', 'EchoTime', 'FlipAngle', 'ContrastBolusAgent']]  \n",
    "y=pd.factorize(df_without_nan['Modality'].values)[0]\n",
    "\n",
    "X = StandardScaler().fit_transform(X)\n",
    "X_train, X_test, y_train, y_test = \\\n",
    "        train_test_split(X, y, test_size=.3, random_state=42)\n",
    "# iterate over classifiers\n",
    "for name, clf in zip(names, classifiers):\n",
    "        ax = plt.subplot(1681, len(classifiers) + 1, i)\n",
    "        clf.fit(X_train, y_train)\n",
    "        score = clf.score(X_test, y_test)\n",
    "        y_pred = clf.predict(X_test)\n",
    "        print(name)\n",
    "        print(metrics.classification_report(y_test, y_pred))\n",
    "        print(\"Accuracy:\",metrics.accuracy_score(y_test, y_pred))\n",
    "\n"
   ]
  },
  {
   "cell_type": "code",
   "execution_count": 19,
   "id": "c3070595",
   "metadata": {},
   "outputs": [],
   "source": [
    "clf1 = DecisionTreeClassifier(max_depth=4, random_state=1)\n",
    "clf2 = RandomForestClassifier(random_state=1, n_estimators=25, max_depth=4,n_jobs=-1)\n",
    "clf3 = LogisticRegression(random_state=1,\n",
    "                          solver='newton-cg',multi_class='ovr', n_jobs=-1)\n",
    "clf4 = SVC(kernel='rbf', random_state=1)\n",
    "clf5 = GaussianNB()\n",
    "clf6 = KNeighborsClassifier(n_neighbors=3, n_jobs=-1)"
   ]
  },
  {
   "cell_type": "code",
   "execution_count": 20,
   "id": "bed938ec",
   "metadata": {},
   "outputs": [
    {
     "name": "stdout",
     "output_type": "stream",
     "text": [
      "DecisionTreeClassifier\n",
      "Accuracy: 0.80078125\n",
      "RandomForestClassifier\n",
      "Accuracy: 0.80078125\n",
      "LogisticRegression\n",
      "Accuracy: 0.79296875\n",
      "SVC\n",
      "Accuracy: 0.73828125\n",
      "GaussianNB\n",
      "Accuracy: 0.70703125\n",
      "KNeighborsClassifier\n",
      "Accuracy: 0.8125\n"
     ]
    },
    {
     "data": {
      "text/plain": [
       "<Figure size 2160x1008 with 0 Axes>"
      ]
     },
     "metadata": {},
     "output_type": "display_data"
    }
   ],
   "source": [
    "gs = gridspec.GridSpec(2, 3)\n",
    "fig = plt.figure(figsize=(30,14))\n",
    "\n",
    "labels = ['DecisionTreeClassifier', 'RandomForestClassifier','LogisticRegression', 'SVC', 'GaussianNB', 'KNeighborsClassifier']\n",
    "for clf, lab, grd in zip([clf1, clf2, clf3, clf4, clf5,clf6],\n",
    "                         labels,\n",
    "                         itertools.product([0, 1], [0,1,2])):\n",
    "  \n",
    "    clf.fit(X_train, y_train)\n",
    "    y_pred=clf.predict(X_test)\n",
    "    acc = metrics.accuracy_score(y_test, y_pred)\n",
    "    print(lab)\n",
    "    print(\"Accuracy:\",metrics.accuracy_score(y_test, y_pred))\n"
   ]
  },
  {
   "cell_type": "code",
   "execution_count": 21,
   "id": "f3e9cd80",
   "metadata": {},
   "outputs": [],
   "source": [
    "knn = KNeighborsClassifier(n_neighbors=3, n_jobs=-1)\n",
    "randforest = RandomForestClassifier(random_state=1, n_estimators=25, max_depth=4,n_jobs=-1)\n",
    "# gaus = GaussianNB()\n",
    "model1 = make_pipeline(StandardScaler(), PolynomialFeatures(degree=6), knn)\n",
    "model2 = make_pipeline(MinMaxScaler(),  PolynomialFeatures(degree=8),GaussianRandomProjection(random_state=1, n_components=10), randforest)"
   ]
  },
  {
   "cell_type": "code",
   "execution_count": 22,
   "id": "468ccabe",
   "metadata": {},
   "outputs": [
    {
     "name": "stdout",
     "output_type": "stream",
     "text": [
      "KNeighborsClassifier\n",
      "Accuracy: 0.81640625\n",
      "RandomForestClassifier\n",
      "Accuracy: 0.8125\n"
     ]
    },
    {
     "data": {
      "text/plain": [
       "<Figure size 2160x864 with 0 Axes>"
      ]
     },
     "metadata": {},
     "output_type": "display_data"
    }
   ],
   "source": [
    "gs = gridspec.GridSpec(1,2)\n",
    "fig = plt.figure(figsize=(30,12))\n",
    "\n",
    "labels = ['KNeighborsClassifier', 'RandomForestClassifier']\n",
    "for clf, lab, grd in zip([model1, model2],\n",
    "                         labels,\n",
    "                         [[0,0],[0,1]]):\n",
    "    clf.fit(X_train, y_train)\n",
    "    y_pred=clf.predict(X_test)\n",
    "    acc = metrics.accuracy_score(y_test, y_pred)\n",
    "    print(lab)\n",
    "    print(\"Accuracy:\",metrics.accuracy_score(y_test, y_pred))\n",
    "    "
   ]
  },
  {
   "cell_type": "code",
   "execution_count": 23,
   "id": "7870fd57",
   "metadata": {},
   "outputs": [
    {
     "name": "stdout",
     "output_type": "stream",
     "text": [
      "              precision    recall  f1-score   support\n",
      "\n",
      "           0       0.96      0.96      0.96        70\n",
      "           1       0.96      0.96      0.96        79\n",
      "           2       0.57      0.60      0.58        47\n",
      "           3       0.67      0.65      0.66        60\n",
      "\n",
      "    accuracy                           0.82       256\n",
      "   macro avg       0.79      0.79      0.79       256\n",
      "weighted avg       0.82      0.82      0.82       256\n",
      "\n",
      "Accuracy: 0.8203125\n",
      "[[67  3  0  0]\n",
      " [ 3 76  0  0]\n",
      " [ 0  0 28 19]\n",
      " [ 0  0 21 39]]\n"
     ]
    },
    {
     "data": {
      "text/plain": [
       "<sklearn.metrics._plot.confusion_matrix.ConfusionMatrixDisplay at 0x7f96a9aa21c0>"
      ]
     },
     "execution_count": 23,
     "metadata": {},
     "output_type": "execute_result"
    },
    {
     "data": {
      "image/png": "[encoded data removed]",
      "text/plain": [
       "<Figure size 432x288 with 2 Axes>"
      ]
     },
     "metadata": {
      "needs_background": "light"
     },
     "output_type": "display_data"
    }
   ],
   "source": [
    "clf= SVC(gamma=2, C=1)\n",
    "\n",
    "X=df_without_nan[['RepetitionTime', 'EchoTime', 'FlipAngle', 'ContrastBolusAgent']]  \n",
    "y=pd.factorize(df_without_nan['Modality'].values)[0]\n",
    "\n",
    "X = StandardScaler().fit_transform(X)\n",
    "X_train, X_test, y_train, y_test = \\\n",
    "        train_test_split(X, y, test_size=.3, random_state=42)\n",
    "# iterate over classifiers\n",
    "clf.fit(X_train, y_train)\n",
    "score = clf.score(X_test, y_test)\n",
    "y_pred = clf.predict(X_test)\n",
    "print(metrics.classification_report(y_test, y_pred))\n",
    "print(\"Accuracy:\",metrics.accuracy_score(y_test, y_pred))\n",
    "cm = confusion_matrix(y_test, y_pred)\n",
    "print(cm)\n",
    "plot_confusion_matrix(clf, X_test, y_pred)  \n",
    "  "
   ]
  },
  {
   "cell_type": "code",
   "execution_count": 24,
   "id": "d3df91fe",
   "metadata": {},
   "outputs": [
    {
     "data": {
      "text/plain": [
       "array(['Flair', 'T2', 'T1', 'T1c'], dtype=object)"
      ]
     },
     "execution_count": 24,
     "metadata": {},
     "output_type": "execute_result"
    }
   ],
   "source": [
    "pd.factorize(df_without_nan['Modality'].values)[1]"
   ]
  },
  {
   "cell_type": "markdown",
   "id": "cd4a4026",
   "metadata": {},
   "source": [
    "# More feature"
   ]
  },
  {
   "cell_type": "code",
   "execution_count": 23,
   "id": "b520b409",
   "metadata": {},
   "outputs": [
    {
     "name": "stderr",
     "output_type": "stream",
     "text": [
      "/home/polina/.local/lib/python3.8/site-packages/IPython/core/interactiveshell.py:3441: DtypeWarning: Columns (0,8,23,29,34,38,39,44,45,47,53,54,56,57,60,65,66,67,69,71,72,73,74,76,80,81,83,84,85,89,95,101,102,107,109,110,111,114,116,117,119,126,134,135,138,139,140,143,144,146,147,149,154,155,158,165,166,168,169,172,175,178,186,188,189,192,193,194,195,197,199,202,203,204,205,206,207,208,211,212,221,226,227,228,231,233,238,242,243,249,262,263,265,266,267,268,269,271,273,274,280,286,287,288,289,291,294,296,297,298,299,304,305,306,307,308,310,311,314,316,317,318,319,320,321,324,325,326,327,328,333,334,335,336,337,338,341,342,343,347,348,349,350,351,352,355,356,358,359,360,361,362,363,365,366,367,368,369,371,372,373,375,376,377,378,379,380,381,382,387,390,392,397,403,414,415,416,419,420,428,429,440) have mixed types.Specify dtype option on import or set low_memory=False.\n",
      "  exec(code_obj, self.user_global_ns, self.user_ns)\n"
     ]
    }
   ],
   "source": [
    "path_metadata = Path('/home/polina/private_datasets/glioma_burdenko/new_csv/meta_all.csv')\n",
    "df=pd.read_csv(path_metadata)\n",
    "df_mark=pd.read_excel('glioma_burdenko_data_cleaning.xlsx', sheet_name='modality_update')"
   ]
  },
  {
   "cell_type": "code",
   "execution_count": 24,
   "id": "c794e6dc",
   "metadata": {},
   "outputs": [
    {
     "name": "stderr",
     "output_type": "stream",
     "text": [
      "100%|████████████████████████████████████████████████████████████████████████████████████████████████████████████████████████████████████████████| 2133/2133 [11:52<00:00,  2.99it/s]\n"
     ]
    }
   ],
   "source": [
    "train_df = pd.DataFrame(columns=['SeriesInstanceUID', 'RepetitionTime', 'EchoTime', 'EchoTrainLength', 'FlipAngle', 'ImagingFrequency', 'NumberOfAverages', 'MagneticFieldStrength', 'EchoNumbers', 'ContrastBolusAgent', 'Modality'])\n",
    "\n",
    "for i in tqdm(range(len(df_mark))):\n",
    "    uid=df_mark.iloc[i]['SeriesInstanceUID IMAGE']\n",
    "    if not df[df['SeriesInstanceUID'] == uid].empty:\n",
    "        new_row = {'SeriesInstanceUID': uid, 'RepetitionTime':df[df['SeriesInstanceUID'] == uid]['RepetitionTime'].values[0], 'EchoTime':df[df['SeriesInstanceUID'] == uid]['EchoTime'].values[0], 'EchoTrainLength' :df[df['SeriesInstanceUID'] == uid]['EchoTrainLength'].values[0],  'ImagingFrequency' : df[df['SeriesInstanceUID'] == uid]['ImagingFrequency'].values[0], 'NumberOfAverages':df[df['SeriesInstanceUID'] == uid]['NumberOfAverages'].values[0], 'MagneticFieldStrength' :df[df['SeriesInstanceUID'] == uid]['MagneticFieldStrength'].values[0], 'EchoNumbers':df[df['SeriesInstanceUID'] == uid]['EchoNumbers'].values[0],  'FlipAngle': df[df['SeriesInstanceUID'] == uid]['FlipAngle'].values[0],'ContrastBolusAgent':df[df['SeriesInstanceUID'] == uid]['ContrastBolusAgent'].values[0], 'Modality':df_mark.iloc[i]['Modality']}\n",
    "        #append row to the dataframe\n",
    "        train_df = train_df.append(new_row, ignore_index=True)"
   ]
  },
  {
   "cell_type": "code",
   "execution_count": 91,
   "id": "a1cbaa29",
   "metadata": {},
   "outputs": [],
   "source": [
    "# train_df.to_csv('train_df_more_feature.csv')\n",
    "train_df=pd.read_csv('train_df_more_feature.csv')"
   ]
  },
  {
   "cell_type": "code",
   "execution_count": 92,
   "id": "9f74ba3f",
   "metadata": {},
   "outputs": [],
   "source": [
    "train_df.dropna(subset=['RepetitionTime'], inplace=True)\n",
    "train_df.dropna(subset=['Modality'], inplace=True)\n",
    "train_df = train_df.drop(train_df[train_df['Modality']=='T1/T1c'].index)\n",
    "train_df.loc[train_df['ContrastBolusAgent'] !=None,'ContrastBolusAgent']=1\n",
    "train_df.loc[train_df['ContrastBolusAgent'] ==None,'ContrastBolusAgent']=0\n",
    "# train_df['EchoTime'] =train_df['EchoTime'].fillna(0)\n",
    "# train_df['FlipAngle'] =train_df['FlipAngle'].fillna(0)\n",
    "# train_df['EchoTrainLength'] =train_df['EchoTrainLength'].fillna(0)\n",
    "# train_df['ImagingFrequency'] =train_df['ImagingFrequency'].fillna(0)\n",
    "# train_df['NumberOfAverages'] =train_df['NumberOfAverages'].fillna(0)\n",
    "# train_df['MagneticFieldStrength'] =train_df['MagneticFieldStrength'].fillna(0)\n",
    "# train_df['EchoNumbers'] =train_df['EchoNumbers'].fillna(0)\n",
    "train_df.dropna(subset=['EchoTime'], inplace=True)\n",
    "train_df.dropna(subset=['FlipAngle'], inplace=True)\n",
    "train_df.dropna(subset=['EchoTrainLength'], inplace=True)\n",
    "train_df.dropna(subset=['ImagingFrequency'], inplace=True)\n",
    "train_df.dropna(subset=['NumberOfAverages'], inplace=True)\n",
    "train_df.dropna(subset=['MagneticFieldStrength'], inplace=True)\n",
    "train_df.dropna(subset=['EchoNumbers'], inplace=True)"
   ]
  },
  {
   "cell_type": "code",
   "execution_count": 93,
   "id": "228f73cf",
   "metadata": {},
   "outputs": [
    {
     "data": {
      "text/html": [
       "<div>\n",
       "<style scoped>\n",
       "    .dataframe tbody tr th:only-of-type {\n",
       "        vertical-align: middle;\n",
       "    }\n",
       "\n",
       "    .dataframe tbody tr th {\n",
       "        vertical-align: top;\n",
       "    }\n",
       "\n",
       "    .dataframe thead th {\n",
       "        text-align: right;\n",
       "    }\n",
       "</style>\n",
       "<table border=\"1\" class=\"dataframe\">\n",
       "  <thead>\n",
       "    <tr style=\"text-align: right;\">\n",
       "      <th></th>\n",
       "      <th>Unnamed: 0</th>\n",
       "      <th>SeriesInstanceUID</th>\n",
       "      <th>RepetitionTime</th>\n",
       "      <th>EchoTime</th>\n",
       "      <th>EchoTrainLength</th>\n",
       "      <th>FlipAngle</th>\n",
       "      <th>ImagingFrequency</th>\n",
       "      <th>NumberOfAverages</th>\n",
       "      <th>MagneticFieldStrength</th>\n",
       "      <th>EchoNumbers</th>\n",
       "      <th>ContrastBolusAgent</th>\n",
       "      <th>Modality</th>\n",
       "    </tr>\n",
       "  </thead>\n",
       "  <tbody>\n",
       "    <tr>\n",
       "      <th>1</th>\n",
       "      <td>1</td>\n",
       "      <td>1.2.840.113619.2.244.6945.1127390.23777.142433...</td>\n",
       "      <td>9502.000000</td>\n",
       "      <td>123.120</td>\n",
       "      <td>1.0</td>\n",
       "      <td>90.0</td>\n",
       "      <td>63.861248</td>\n",
       "      <td>1.0</td>\n",
       "      <td>1.5</td>\n",
       "      <td>1.0</td>\n",
       "      <td>1</td>\n",
       "      <td>Flair</td>\n",
       "    </tr>\n",
       "    <tr>\n",
       "      <th>2</th>\n",
       "      <td>2</td>\n",
       "      <td>1.3.46.670589.11.8002.5.0.7452.201609171236215...</td>\n",
       "      <td>11000.000000</td>\n",
       "      <td>140.000</td>\n",
       "      <td>52.0</td>\n",
       "      <td>90.0</td>\n",
       "      <td>63.881927</td>\n",
       "      <td>2.0</td>\n",
       "      <td>1.5</td>\n",
       "      <td>1.0</td>\n",
       "      <td>1</td>\n",
       "      <td>Flair</td>\n",
       "    </tr>\n",
       "    <tr>\n",
       "      <th>5</th>\n",
       "      <td>5</td>\n",
       "      <td>1.3.46.670589.11.10507.5.0.752.201702201200089...</td>\n",
       "      <td>6894.250977</td>\n",
       "      <td>110.000</td>\n",
       "      <td>15.0</td>\n",
       "      <td>90.0</td>\n",
       "      <td>63.900809</td>\n",
       "      <td>3.0</td>\n",
       "      <td>1.5</td>\n",
       "      <td>1.0</td>\n",
       "      <td>1</td>\n",
       "      <td>T2</td>\n",
       "    </tr>\n",
       "    <tr>\n",
       "      <th>6</th>\n",
       "      <td>6</td>\n",
       "      <td>1.3.46.670589.11.33489.5.0.4984.20160212150626...</td>\n",
       "      <td>7459.892090</td>\n",
       "      <td>100.000</td>\n",
       "      <td>15.0</td>\n",
       "      <td>90.0</td>\n",
       "      <td>63.881809</td>\n",
       "      <td>1.0</td>\n",
       "      <td>1.5</td>\n",
       "      <td>1.0</td>\n",
       "      <td>1</td>\n",
       "      <td>T2</td>\n",
       "    </tr>\n",
       "    <tr>\n",
       "      <th>7</th>\n",
       "      <td>7</td>\n",
       "      <td>1.2.840.113619.2.275.10502719.2141559.24330.15...</td>\n",
       "      <td>7547.000000</td>\n",
       "      <td>98.400</td>\n",
       "      <td>24.0</td>\n",
       "      <td>90.0</td>\n",
       "      <td>63.871162</td>\n",
       "      <td>1.0</td>\n",
       "      <td>1.5</td>\n",
       "      <td>1.0</td>\n",
       "      <td>1</td>\n",
       "      <td>T2</td>\n",
       "    </tr>\n",
       "    <tr>\n",
       "      <th>...</th>\n",
       "      <td>...</td>\n",
       "      <td>...</td>\n",
       "      <td>...</td>\n",
       "      <td>...</td>\n",
       "      <td>...</td>\n",
       "      <td>...</td>\n",
       "      <td>...</td>\n",
       "      <td>...</td>\n",
       "      <td>...</td>\n",
       "      <td>...</td>\n",
       "      <td>...</td>\n",
       "      <td>...</td>\n",
       "    </tr>\n",
       "    <tr>\n",
       "      <th>1753</th>\n",
       "      <td>1753</td>\n",
       "      <td>1.3.46.670589.11.20098.5.0.7800.20140322182033...</td>\n",
       "      <td>450.000214</td>\n",
       "      <td>15.000</td>\n",
       "      <td>1.0</td>\n",
       "      <td>69.0</td>\n",
       "      <td>63.903840</td>\n",
       "      <td>1.0</td>\n",
       "      <td>1.5</td>\n",
       "      <td>1.0</td>\n",
       "      <td>1</td>\n",
       "      <td>T1c</td>\n",
       "    </tr>\n",
       "    <tr>\n",
       "      <th>1769</th>\n",
       "      <td>1769</td>\n",
       "      <td>1.3.12.2.1107.5.2.6.23898.30000015011912360918...</td>\n",
       "      <td>604.000000</td>\n",
       "      <td>10.000</td>\n",
       "      <td>1.0</td>\n",
       "      <td>90.0</td>\n",
       "      <td>63.695920</td>\n",
       "      <td>2.0</td>\n",
       "      <td>1.5</td>\n",
       "      <td>0.0</td>\n",
       "      <td>1</td>\n",
       "      <td>T1</td>\n",
       "    </tr>\n",
       "    <tr>\n",
       "      <th>1770</th>\n",
       "      <td>1770</td>\n",
       "      <td>1.3.12.2.1107.5.2.6.23898.30000015011912360918...</td>\n",
       "      <td>500.000000</td>\n",
       "      <td>9.300</td>\n",
       "      <td>1.0</td>\n",
       "      <td>90.0</td>\n",
       "      <td>63.695921</td>\n",
       "      <td>2.0</td>\n",
       "      <td>1.5</td>\n",
       "      <td>0.0</td>\n",
       "      <td>1</td>\n",
       "      <td>T1c</td>\n",
       "    </tr>\n",
       "    <tr>\n",
       "      <th>1777</th>\n",
       "      <td>1777</td>\n",
       "      <td>1.2.840.113619.2.312.6945.1127356.12758.136671...</td>\n",
       "      <td>9502.000000</td>\n",
       "      <td>126.684</td>\n",
       "      <td>1.0</td>\n",
       "      <td>90.0</td>\n",
       "      <td>127.753685</td>\n",
       "      <td>1.0</td>\n",
       "      <td>3.0</td>\n",
       "      <td>1.0</td>\n",
       "      <td>1</td>\n",
       "      <td>Flair</td>\n",
       "    </tr>\n",
       "    <tr>\n",
       "      <th>1807</th>\n",
       "      <td>1807</td>\n",
       "      <td>1.2.840.113619.2.312.4120.8418826.12365.148903...</td>\n",
       "      <td>11.060000</td>\n",
       "      <td>4.636</td>\n",
       "      <td>1.0</td>\n",
       "      <td>13.0</td>\n",
       "      <td>63.841182</td>\n",
       "      <td>1.0</td>\n",
       "      <td>1.5</td>\n",
       "      <td>1.0</td>\n",
       "      <td>1</td>\n",
       "      <td>T1c</td>\n",
       "    </tr>\n",
       "  </tbody>\n",
       "</table>\n",
       "<p>801 rows × 12 columns</p>\n",
       "</div>"
      ],
      "text/plain": [
       "      Unnamed: 0                                  SeriesInstanceUID  \\\n",
       "1              1  1.2.840.113619.2.244.6945.1127390.23777.142433...   \n",
       "2              2  1.3.46.670589.11.8002.5.0.7452.201609171236215...   \n",
       "5              5  1.3.46.670589.11.10507.5.0.752.201702201200089...   \n",
       "6              6  1.3.46.670589.11.33489.5.0.4984.20160212150626...   \n",
       "7              7  1.2.840.113619.2.275.10502719.2141559.24330.15...   \n",
       "...          ...                                                ...   \n",
       "1753        1753  1.3.46.670589.11.20098.5.0.7800.20140322182033...   \n",
       "1769        1769  1.3.12.2.1107.5.2.6.23898.30000015011912360918...   \n",
       "1770        1770  1.3.12.2.1107.5.2.6.23898.30000015011912360918...   \n",
       "1777        1777  1.2.840.113619.2.312.6945.1127356.12758.136671...   \n",
       "1807        1807  1.2.840.113619.2.312.4120.8418826.12365.148903...   \n",
       "\n",
       "      RepetitionTime  EchoTime  EchoTrainLength  FlipAngle  ImagingFrequency  \\\n",
       "1        9502.000000   123.120              1.0       90.0         63.861248   \n",
       "2       11000.000000   140.000             52.0       90.0         63.881927   \n",
       "5        6894.250977   110.000             15.0       90.0         63.900809   \n",
       "6        7459.892090   100.000             15.0       90.0         63.881809   \n",
       "7        7547.000000    98.400             24.0       90.0         63.871162   \n",
       "...              ...       ...              ...        ...               ...   \n",
       "1753      450.000214    15.000              1.0       69.0         63.903840   \n",
       "1769      604.000000    10.000              1.0       90.0         63.695920   \n",
       "1770      500.000000     9.300              1.0       90.0         63.695921   \n",
       "1777     9502.000000   126.684              1.0       90.0        127.753685   \n",
       "1807       11.060000     4.636              1.0       13.0         63.841182   \n",
       "\n",
       "      NumberOfAverages  MagneticFieldStrength  EchoNumbers ContrastBolusAgent  \\\n",
       "1                  1.0                    1.5          1.0                  1   \n",
       "2                  2.0                    1.5          1.0                  1   \n",
       "5                  3.0                    1.5          1.0                  1   \n",
       "6                  1.0                    1.5          1.0                  1   \n",
       "7                  1.0                    1.5          1.0                  1   \n",
       "...                ...                    ...          ...                ...   \n",
       "1753               1.0                    1.5          1.0                  1   \n",
       "1769               2.0                    1.5          0.0                  1   \n",
       "1770               2.0                    1.5          0.0                  1   \n",
       "1777               1.0                    3.0          1.0                  1   \n",
       "1807               1.0                    1.5          1.0                  1   \n",
       "\n",
       "     Modality  \n",
       "1       Flair  \n",
       "2       Flair  \n",
       "5          T2  \n",
       "6          T2  \n",
       "7          T2  \n",
       "...       ...  \n",
       "1753      T1c  \n",
       "1769       T1  \n",
       "1770      T1c  \n",
       "1777    Flair  \n",
       "1807      T1c  \n",
       "\n",
       "[801 rows x 12 columns]"
      ]
     },
     "execution_count": 93,
     "metadata": {},
     "output_type": "execute_result"
    }
   ],
   "source": [
    "train_df"
   ]
  },
  {
   "cell_type": "code",
   "execution_count": 35,
   "id": "3de8a2db",
   "metadata": {},
   "outputs": [
    {
     "name": "stdout",
     "output_type": "stream",
     "text": [
      "              precision    recall  f1-score   support\n",
      "\n",
      "           0       0.97      0.96      0.97        72\n",
      "           1       0.96      0.96      0.96        80\n",
      "           2       0.62      0.48      0.54        42\n",
      "           3       0.60      0.74      0.67        47\n",
      "\n",
      "    accuracy                           0.83       241\n",
      "   macro avg       0.79      0.79      0.78       241\n",
      "weighted avg       0.84      0.83      0.83       241\n",
      "\n",
      "Accuracy: 0.8340248962655602\n",
      "[[69  3  0  0]\n",
      " [ 2 77  0  1]\n",
      " [ 0  0 20 22]\n",
      " [ 0  0 12 35]]\n"
     ]
    },
    {
     "data": {
      "text/plain": [
       "<sklearn.metrics._plot.confusion_matrix.ConfusionMatrixDisplay at 0x7f971c815a90>"
      ]
     },
     "execution_count": 35,
     "metadata": {},
     "output_type": "execute_result"
    },
    {
     "data": {
      "image/png": "[encoded data removed]",
      "text/plain": [
       "<Figure size 432x288 with 2 Axes>"
      ]
     },
     "metadata": {
      "needs_background": "light"
     },
     "output_type": "display_data"
    }
   ],
   "source": [
    "clf= SVC(gamma=2, C=1)\n",
    "\n",
    "X=train_df[['RepetitionTime', 'EchoTime', 'EchoTrainLength', 'FlipAngle', 'ImagingFrequency', 'NumberOfAverages', 'MagneticFieldStrength', 'EchoNumbers', 'ContrastBolusAgent']]\n",
    "y=pd.factorize(train_df['Modality'].values)[0]\n",
    "\n",
    "X = StandardScaler().fit_transform(X)\n",
    "X_train, X_test, y_train, y_test = \\\n",
    "        train_test_split(X, y, test_size=.3, random_state=42)\n",
    "# iterate over classifiers\n",
    "clf.fit(X_train, y_train)\n",
    "score = clf.score(X_test, y_test)\n",
    "y_pred = clf.predict(X_test)\n",
    "print(metrics.classification_report(y_test, y_pred))\n",
    "print(\"Accuracy:\",metrics.accuracy_score(y_test, y_pred))\n",
    "cm = confusion_matrix(y_test, y_pred)\n",
    "print(cm)\n",
    "plot_confusion_matrix(clf, X_test, y_pred)  "
   ]
  },
  {
   "cell_type": "code",
   "execution_count": 37,
   "id": "969fe697",
   "metadata": {},
   "outputs": [
    {
     "name": "stdout",
     "output_type": "stream",
     "text": [
      "Nearest Neighbors\n",
      "              precision    recall  f1-score   support\n",
      "\n",
      "           0       0.97      0.93      0.95        70\n",
      "           1       0.94      0.99      0.96        79\n",
      "           2       0.59      0.49      0.53        47\n",
      "           3       0.64      0.72      0.68        60\n",
      "\n",
      "    accuracy                           0.82       256\n",
      "   macro avg       0.79      0.78      0.78       256\n",
      "weighted avg       0.81      0.82      0.81       256\n",
      "\n",
      "Accuracy: 0.81640625\n",
      "Linear SVM\n",
      "              precision    recall  f1-score   support\n",
      "\n",
      "           0       0.92      0.84      0.88        70\n",
      "           1       0.87      0.91      0.89        79\n",
      "           2       0.63      0.47      0.54        47\n",
      "           3       0.64      0.78      0.70        60\n",
      "\n",
      "    accuracy                           0.78       256\n",
      "   macro avg       0.76      0.75      0.75       256\n",
      "weighted avg       0.78      0.78      0.78       256\n",
      "\n",
      "Accuracy: 0.78125\n",
      "RBF SVM\n",
      "              precision    recall  f1-score   support\n",
      "\n",
      "           0       1.00      0.86      0.92        70\n",
      "           1       0.89      0.99      0.93        79\n",
      "           2       0.61      0.47      0.53        47\n",
      "           3       0.64      0.77      0.70        60\n",
      "\n",
      "    accuracy                           0.80       256\n",
      "   macro avg       0.78      0.77      0.77       256\n",
      "weighted avg       0.81      0.80      0.80       256\n",
      "\n",
      "Accuracy: 0.8046875\n",
      "Gaussian Process\n",
      "              precision    recall  f1-score   support\n",
      "\n",
      "           0       0.97      0.84      0.90        70\n",
      "           1       0.87      0.96      0.92        79\n",
      "           2       0.62      0.49      0.55        47\n",
      "           3       0.65      0.77      0.70        60\n",
      "\n",
      "    accuracy                           0.80       256\n",
      "   macro avg       0.78      0.77      0.77       256\n",
      "weighted avg       0.80      0.80      0.79       256\n",
      "\n",
      "Accuracy: 0.796875\n",
      "Decision Tree\n",
      "              precision    recall  f1-score   support\n",
      "\n",
      "           0       0.97      0.91      0.94        70\n",
      "           1       0.93      0.97      0.95        79\n",
      "           2       0.57      0.72      0.64        47\n",
      "           3       0.72      0.57      0.64        60\n",
      "\n",
      "    accuracy                           0.82       256\n",
      "   macro avg       0.80      0.79      0.79       256\n",
      "weighted avg       0.83      0.82      0.82       256\n",
      "\n",
      "Accuracy: 0.81640625\n",
      "Random Forest\n",
      "              precision    recall  f1-score   support\n",
      "\n",
      "           0       0.97      0.81      0.88        70\n",
      "           1       0.85      0.96      0.90        79\n",
      "           2       0.60      0.55      0.58        47\n",
      "           3       0.68      0.73      0.70        60\n",
      "\n",
      "    accuracy                           0.79       256\n",
      "   macro avg       0.78      0.77      0.77       256\n",
      "weighted avg       0.80      0.79      0.79       256\n",
      "\n",
      "Accuracy: 0.79296875\n",
      "Neural Net\n",
      "              precision    recall  f1-score   support\n",
      "\n",
      "           0       0.95      0.83      0.89        70\n",
      "           1       0.86      0.94      0.90        79\n",
      "           2       0.61      0.43      0.50        47\n",
      "           3       0.62      0.78      0.69        60\n",
      "\n",
      "    accuracy                           0.78       256\n",
      "   macro avg       0.76      0.74      0.74       256\n",
      "weighted avg       0.78      0.78      0.77       256\n",
      "\n",
      "Accuracy: 0.77734375\n",
      "AdaBoost\n",
      "              precision    recall  f1-score   support\n",
      "\n",
      "           0       0.00      0.00      0.00        70\n",
      "           1       0.53      1.00      0.69        79\n",
      "           2       0.00      0.00      0.00        47\n",
      "           3       0.56      1.00      0.72        60\n",
      "\n",
      "    accuracy                           0.54       256\n",
      "   macro avg       0.27      0.50      0.35       256\n",
      "weighted avg       0.30      0.54      0.38       256\n",
      "\n",
      "Accuracy: 0.54296875\n",
      "Naive Bayes\n",
      "              precision    recall  f1-score   support\n",
      "\n",
      "           0       0.90      0.89      0.89        70\n",
      "           1       0.88      0.89      0.88        79\n",
      "           2       0.00      0.00      0.00        47\n",
      "           3       0.55      0.98      0.71        60\n",
      "\n",
      "    accuracy                           0.75       256\n",
      "   macro avg       0.58      0.69      0.62       256\n",
      "weighted avg       0.64      0.75      0.68       256\n",
      "\n",
      "Accuracy: 0.74609375\n"
     ]
    },
    {
     "name": "stderr",
     "output_type": "stream",
     "text": [
      "/home/polina/.local/lib/python3.8/site-packages/sklearn/metrics/_classification.py:1248: UndefinedMetricWarning: Precision and F-score are ill-defined and being set to 0.0 in labels with no predicted samples. Use `zero_division` parameter to control this behavior.\n",
      "  _warn_prf(average, modifier, msg_start, len(result))\n",
      "/home/polina/.local/lib/python3.8/site-packages/sklearn/metrics/_classification.py:1248: UndefinedMetricWarning: Precision and F-score are ill-defined and being set to 0.0 in labels with no predicted samples. Use `zero_division` parameter to control this behavior.\n",
      "  _warn_prf(average, modifier, msg_start, len(result))\n",
      "/home/polina/.local/lib/python3.8/site-packages/sklearn/metrics/_classification.py:1248: UndefinedMetricWarning: Precision and F-score are ill-defined and being set to 0.0 in labels with no predicted samples. Use `zero_division` parameter to control this behavior.\n",
      "  _warn_prf(average, modifier, msg_start, len(result))\n",
      "/home/polina/.local/lib/python3.8/site-packages/sklearn/metrics/_classification.py:1248: UndefinedMetricWarning: Precision and F-score are ill-defined and being set to 0.0 in labels with no predicted samples. Use `zero_division` parameter to control this behavior.\n",
      "  _warn_prf(average, modifier, msg_start, len(result))\n",
      "/home/polina/.local/lib/python3.8/site-packages/sklearn/metrics/_classification.py:1248: UndefinedMetricWarning: Precision and F-score are ill-defined and being set to 0.0 in labels with no predicted samples. Use `zero_division` parameter to control this behavior.\n",
      "  _warn_prf(average, modifier, msg_start, len(result))\n",
      "/home/polina/.local/lib/python3.8/site-packages/sklearn/metrics/_classification.py:1248: UndefinedMetricWarning: Precision and F-score are ill-defined and being set to 0.0 in labels with no predicted samples. Use `zero_division` parameter to control this behavior.\n",
      "  _warn_prf(average, modifier, msg_start, len(result))\n"
     ]
    },
    {
     "data": {
      "image/png": "[encoded data removed]",
      "text/plain": [
       "<Figure size 432x288 with 1 Axes>"
      ]
     },
     "metadata": {
      "needs_background": "light"
     },
     "output_type": "display_data"
    }
   ],
   "source": [
    "names = [\"Nearest Neighbors\", \"Linear SVM\", \"RBF SVM\", \"Gaussian Process\",\n",
    "         \"Decision Tree\", \"Random Forest\", \"Neural Net\", \"AdaBoost\",\n",
    "         \"Naive Bayes\"]\n",
    "\n",
    "classifiers = [\n",
    "    KNeighborsClassifier(3),\n",
    "    SVC(kernel=\"linear\", C=0.025),\n",
    "    SVC(gamma=2, C=1),\n",
    "    GaussianProcessClassifier(1.0 * RBF(1.0)),\n",
    "    DecisionTreeClassifier(max_depth=4),\n",
    "    RandomForestClassifier(max_depth=4, n_estimators=10, max_features=1),\n",
    "    MLPClassifier(alpha=1, max_iter=1000),\n",
    "    AdaBoostClassifier(),\n",
    "    GaussianNB(),\n",
    "    QuadraticDiscriminantAnalysis()]\n",
    "X = StandardScaler().fit_transform(X)\n",
    "X_train, X_test, y_train, y_test = \\\n",
    "        train_test_split(X, y, test_size=.3, random_state=42)\n",
    "# iterate over classifiers\n",
    "for name, clf in zip(names, classifiers):\n",
    "        ax = plt.subplot(1681, len(classifiers) + 1, i)\n",
    "        clf.fit(X_train, y_train)\n",
    "        score = clf.score(X_test, y_test)\n",
    "        y_pred = clf.predict(X_test)\n",
    "        print(name)\n",
    "        print(metrics.classification_report(y_test, y_pred))\n",
    "        print(\"Accuracy:\",metrics.accuracy_score(y_test, y_pred))"
   ]
  },
  {
   "cell_type": "code",
   "execution_count": 40,
   "id": "19abc7c0",
   "metadata": {},
   "outputs": [],
   "source": [
    "clf1 = DecisionTreeClassifier(max_depth=4, random_state=1)\n",
    "clf2 = RandomForestClassifier(random_state=1, n_estimators=25, max_depth=4,n_jobs=-1)\n",
    "clf3 = LogisticRegression(random_state=1,\n",
    "                          solver='newton-cg',multi_class='ovr', n_jobs=-1)\n",
    "clf4 = SVC(kernel='rbf', random_state=1)\n",
    "clf5 = GaussianNB()\n",
    "clf6 = KNeighborsClassifier(n_neighbors=3, n_jobs=-1)"
   ]
  },
  {
   "cell_type": "code",
   "execution_count": 41,
   "id": "df950b58",
   "metadata": {},
   "outputs": [
    {
     "name": "stdout",
     "output_type": "stream",
     "text": [
      "DecisionTreeClassifier\n",
      "Accuracy: 0.8046875\n",
      "RandomForestClassifier\n",
      "Accuracy: 0.79296875\n",
      "LogisticRegression\n",
      "Accuracy: 0.78515625\n",
      "SVC\n",
      "Accuracy: 0.76953125\n",
      "GaussianNB\n",
      "Accuracy: 0.74609375\n",
      "KNeighborsClassifier\n",
      "Accuracy: 0.81640625\n"
     ]
    },
    {
     "data": {
      "text/plain": [
       "<Figure size 2160x1008 with 0 Axes>"
      ]
     },
     "metadata": {},
     "output_type": "display_data"
    }
   ],
   "source": [
    "gs = gridspec.GridSpec(2, 3)\n",
    "fig = plt.figure(figsize=(30,14))\n",
    "\n",
    "labels = ['DecisionTreeClassifier', 'RandomForestClassifier','LogisticRegression', 'SVC', 'GaussianNB', 'KNeighborsClassifier']\n",
    "for clf, lab, grd in zip([clf1, clf2, clf3, clf4, clf5,clf6],\n",
    "                         labels,\n",
    "                         itertools.product([0, 1], [0,1,2])):\n",
    "  \n",
    "    clf.fit(X_train, y_train)\n",
    "    y_pred=clf.predict(X_test)\n",
    "    acc = metrics.accuracy_score(y_test, y_pred)\n",
    "    print(lab)\n",
    "    print(\"Accuracy:\",metrics.accuracy_score(y_test, y_pred))"
   ]
  },
  {
   "cell_type": "code",
   "execution_count": 42,
   "id": "a19051ad",
   "metadata": {},
   "outputs": [],
   "source": [
    "knn = KNeighborsClassifier(n_neighbors=3, n_jobs=-1)\n",
    "randforest = RandomForestClassifier(random_state=1, n_estimators=25, max_depth=4,n_jobs=-1)\n",
    "# gaus = GaussianNB()\n",
    "model1 = make_pipeline(StandardScaler(), PolynomialFeatures(degree=6), knn)\n",
    "model2 = make_pipeline(MinMaxScaler(),  PolynomialFeatures(degree=8),GaussianRandomProjection(random_state=1, n_components=10), randforest)"
   ]
  },
  {
   "cell_type": "code",
   "execution_count": 43,
   "id": "d7a1badf",
   "metadata": {},
   "outputs": [
    {
     "name": "stdout",
     "output_type": "stream",
     "text": [
      "KNeighborsClassifier\n",
      "Accuracy: 0.78515625\n",
      "RandomForestClassifier\n",
      "Accuracy: 0.80078125\n"
     ]
    },
    {
     "data": {
      "text/plain": [
       "<Figure size 2160x864 with 0 Axes>"
      ]
     },
     "metadata": {},
     "output_type": "display_data"
    }
   ],
   "source": [
    "gs = gridspec.GridSpec(1,2)\n",
    "fig = plt.figure(figsize=(30,12))\n",
    "\n",
    "labels = ['KNeighborsClassifier', 'RandomForestClassifier']\n",
    "for clf, lab, grd in zip([model1, model2],\n",
    "                         labels,\n",
    "                         [[0,0],[0,1]]):\n",
    "    clf.fit(X_train, y_train)\n",
    "    y_pred=clf.predict(X_test)\n",
    "    acc = metrics.accuracy_score(y_test, y_pred)\n",
    "    print(lab)\n",
    "    print(\"Accuracy:\",metrics.accuracy_score(y_test, y_pred))\n",
    "    "
   ]
  },
  {
   "cell_type": "code",
   "execution_count": 52,
   "id": "e43aa94a",
   "metadata": {},
   "outputs": [
    {
     "data": {
      "text/plain": [
       "RandomForestClassifier()"
      ]
     },
     "execution_count": 52,
     "metadata": {},
     "output_type": "execute_result"
    }
   ],
   "source": [
    "clf = RandomForestClassifier()\n",
    "clf.fit(X_train, y_train)"
   ]
  },
  {
   "cell_type": "code",
   "execution_count": 53,
   "id": "2571fcaa",
   "metadata": {},
   "outputs": [
    {
     "name": "stdout",
     "output_type": "stream",
     "text": [
      "       Flair  T1  T1c  T2\n",
      "Flair     70   0    0   0\n",
      "T1         2  80    0   0\n",
      "T1c        0   0   20  14\n",
      "T2         0   0   22  33\n",
      "Accuracy: 0.8423236514522822\n"
     ]
    }
   ],
   "source": [
    "cm = confusion_matrix(y_test, clf.predict(X_test))\n",
    "modalities = ['Flair', 'T1', 'T1c', 'T2']\n",
    "results = pd.DataFrame({'Flair': cm[0],\n",
    "                        'T1': cm[1],\n",
    "                        'T1c': cm[2],\n",
    "                        'T2': cm[3]},\n",
    "                        index=modalities)\n",
    "print(results)\n",
    "print(\"Accuracy:\",metrics.accuracy_score(y_test, clf.predict(X_test)))"
   ]
  },
  {
   "cell_type": "code",
   "execution_count": 40,
   "id": "777191bb",
   "metadata": {},
   "outputs": [
    {
     "data": {
      "image/png": "[encoded data removed]",
      "text/plain": [
       "<Figure size 576x367.2 with 1 Axes>"
      ]
     },
     "metadata": {
      "needs_background": "light"
     },
     "output_type": "display_data"
    }
   ],
   "source": [
    "explainer = shap.TreeExplainer(clf)\n",
    "shap_values = explainer.shap_values(X)\n",
    "\n",
    "shap.summary_plot(shap_values, X, plot_type='bar')"
   ]
  },
  {
   "cell_type": "code",
   "execution_count": 45,
   "id": "0fa7c578",
   "metadata": {},
   "outputs": [
    {
     "name": "stdout",
     "output_type": "stream",
     "text": [
      "       Flair  T1  T1c  T2\n",
      "Flair     72   8    0   0\n",
      "T1         0  72    0   0\n",
      "T1c        0   0   32  15\n",
      "T2         0   0   10  32\n",
      "Accuracy: 0.8630705394190872\n"
     ]
    }
   ],
   "source": [
    "X_train, X_test, y_train, y_test = \\\n",
    "        train_test_split(X, y, test_size=.3, random_state=42)\n",
    "clf1 = DecisionTreeClassifier(max_depth=2)\n",
    "clf1.fit(X_train, y_train)\n",
    "y_pred=clf1.predict(X_test)\n",
    "cmr = confusion_matrix(y_test, y_pred)\n",
    "results = pd.DataFrame({'Flair': cmr[0],\n",
    "                        'T1': cmr[1],\n",
    "                        'T1c': cmr[2],\n",
    "                        'T2': cmr[3]},\n",
    "                        index=modalities)\n",
    "print(results)\n",
    "print(\"Accuracy:\",metrics.accuracy_score(y_test, y_pred))"
   ]
  },
  {
   "cell_type": "code",
   "execution_count": 49,
   "id": "311dab86",
   "metadata": {},
   "outputs": [
    {
     "name": "stdout",
     "output_type": "stream",
     "text": [
      "       Flair  T1  T1c  T2\n",
      "Flair     66   1    0   0\n",
      "T1         2  74    0   0\n",
      "T1c        0   0   23  21\n",
      "T2         0   0   21  33\n",
      "Accuracy: 0.3360995850622407\n"
     ]
    }
   ],
   "source": [
    "data_reduced = train_df[['RepetitionTime', 'EchoTime']]\n",
    "# X=train_df[['RepetitionTime', 'EchoTime', 'EchoTrainLength', 'FlipAngle', 'ImagingFrequency', 'NumberOfAverages', 'MagneticFieldStrength', 'EchoNumbers', 'ContrastBolusAgent']]\n",
    "y=pd.factorize(train_df['Modality'].values)[0]\n",
    "\n",
    "\n",
    "Xr_train, Xr_test, yr_train, yr_test = train_test_split(data_reduced,y, test_size=0.3, stratify=y)\n",
    "clf1 = RandomForestClassifier()\n",
    "clf1.fit(Xr_train, yr_train)\n",
    "cmr = confusion_matrix(yr_test, clf1.predict(Xr_test))\n",
    "resultsr = pd.DataFrame({'Flair': cmr[0],\n",
    "                        'T1': cmr[1],\n",
    "                        'T1c': cmr[2],\n",
    "                        'T2': cmr[3]},\n",
    "                        index=modalities)\n",
    "print(resultsr)\n",
    "print(\"Accuracy:\",metrics.accuracy_score(y_test, clf1.predict(Xr_test)))"
   ]
  },
  {
   "cell_type": "code",
   "execution_count": 50,
   "id": "f698d704",
   "metadata": {},
   "outputs": [
    {
     "name": "stdout",
     "output_type": "stream",
     "text": [
      "       Flair  T1  T1c  T2\n",
      "Flair     59   0    0   0\n",
      "T1         9  75    0   0\n",
      "T1c        0   0   36  41\n",
      "T2         0   0    8  13\n",
      "Accuracy: 0.3360995850622407\n"
     ]
    }
   ],
   "source": [
    "clf1 = DecisionTreeClassifier(max_depth=2)\n",
    "clf1.fit(Xr_train, yr_train)\n",
    "cmr = confusion_matrix(yr_test, clf1.predict(Xr_test))\n",
    "resultsr = pd.DataFrame({'Flair': cmr[0],\n",
    "                        'T1': cmr[1],\n",
    "                        'T1c': cmr[2],\n",
    "                        'T2': cmr[3]},\n",
    "                        index=modalities)\n",
    "print(resultsr)\n",
    "print(\"Accuracy:\",metrics.accuracy_score(y_test, clf1.predict(Xr_test)))"
   ]
  },
  {
   "cell_type": "code",
   "execution_count": 95,
   "id": "60230ab3",
   "metadata": {},
   "outputs": [],
   "source": [
    "X=train_df[['RepetitionTime', 'EchoTime', 'EchoTrainLength', 'FlipAngle', 'ImagingFrequency', 'NumberOfAverages', 'MagneticFieldStrength', 'EchoNumbers', 'ContrastBolusAgent']]\n",
    "y=pd.factorize(train_df['Modality'].values)[0]\n",
    "X_train, X_test, y_train, y_test = \\\n",
    "        train_test_split(X, y, test_size=.3, random_state=42)"
   ]
  },
  {
   "cell_type": "code",
   "execution_count": 96,
   "id": "afc6d93d",
   "metadata": {},
   "outputs": [],
   "source": [
    "params = {\n",
    "    'max_depth': stats.randint(2, 10),\n",
    "    'min_samples_split': stats.randint(2, 25),\n",
    "    'n_estimators':stats.randint(1, 10),\n",
    "    'min_samples_leaf': [5],\n",
    "    'max_features': [1.],\n",
    "    'random_state':[1],\n",
    "}\n",
    "cv = KFold(n_splits=5, shuffle=True, random_state=1)\n",
    "clf = RandomForestClassifier()\n",
    "rs = RandomizedSearchCV(estimator=clf,\n",
    "                       param_distributions=params,\n",
    "                       n_iter=1000,\n",
    "                       scoring='accuracy',\n",
    "                       n_jobs=-1,\n",
    "                       cv=cv,\n",
    "                       verbose=1,\n",
    "                       random_state=1)"
   ]
  },
  {
   "cell_type": "code",
   "execution_count": 97,
   "id": "14007129",
   "metadata": {},
   "outputs": [
    {
     "name": "stdout",
     "output_type": "stream",
     "text": [
      "Fitting 5 folds for each of 1000 candidates, totalling 5000 fits\n",
      "{'max_depth': 4, 'max_features': 1.0, 'min_samples_leaf': 5, 'min_samples_split': 7, 'n_estimators': 8, 'random_state': 1}\n",
      "       Flair  T1  T1c  T2\n",
      "Flair     69   0    0   0\n",
      "T1         3  80    0   0\n",
      "T1c        0   0   22   7\n",
      "T2         0   0   20  40\n",
      "Accuracy: 0.8755186721991701\n"
     ]
    }
   ],
   "source": [
    "search = rs.fit(X_train, y_train)\n",
    "print(search.best_params_)\n",
    "cmr = confusion_matrix(y_test, rs.predict(X_test))\n",
    "results = pd.DataFrame({'Flair': cmr[0],\n",
    "                        'T1': cmr[1],\n",
    "                        'T1c': cmr[2],\n",
    "                        'T2': cmr[3]},\n",
    "                        index=modalities)\n",
    "print(results)\n",
    "print(\"Accuracy:\",metrics.accuracy_score(y_test, rs.predict(X_test)))"
   ]
  },
  {
   "cell_type": "code",
   "execution_count": 98,
   "id": "68191ebe",
   "metadata": {},
   "outputs": [
    {
     "name": "stdout",
     "output_type": "stream",
     "text": [
      "       Flair  T1  T1c  T2\n",
      "Flair     69   0    0   0\n",
      "T1         3  80    0   0\n",
      "T1c        0   0   22   7\n",
      "T2         0   0   20  40\n",
      "Accuracy: 0.8755186721991701\n"
     ]
    }
   ],
   "source": [
    "clf = RandomForestClassifier(max_depth= 4, max_features=1.0, min_samples_leaf=5, min_samples_split=12, n_estimators=7, random_state=1)\n",
    "clf.fit(X_train, y_train)\n",
    "y_pred=clf.predict(X_test)\n",
    "cmr = confusion_matrix(y_test, y_pred)\n",
    "results = pd.DataFrame({'Flair': cmr[0],\n",
    "                        'T1': cmr[1],\n",
    "                        'T1c': cmr[2],\n",
    "                        'T2': cmr[3]},\n",
    "                        index=modalities)\n",
    "print(results)\n",
    "print(\"Accuracy:\",metrics.accuracy_score(y_test, y_pred))"
   ]
  },
  {
   "cell_type": "code",
   "execution_count": 101,
   "id": "fb624842",
   "metadata": {},
   "outputs": [
    {
     "data": {
      "text/plain": [
       "['randomforest.joblib']"
      ]
     },
     "execution_count": 101,
     "metadata": {},
     "output_type": "execute_result"
    }
   ],
   "source": [
    "dump(clf, 'randomforest.joblib')\n",
    "# clf = load('filename.joblib') "
   ]
  },
  {
   "cell_type": "code",
   "execution_count": 112,
   "id": "441a1242",
   "metadata": {},
   "outputs": [],
   "source": [
    "def get_modality(data,path='randomforest.joblib'):\n",
    "    data.loc[data['ContrastBolusAgent'] !=None,'ContrastBolusAgent']=1\n",
    "    data.loc[data['ContrastBolusAgent'] ==None,'ContrastBolusAgent']=0\n",
    "    label = np.array(['Flair', 'T2', 'T1', 'T1c'])\n",
    "    clf = load('randomforest.joblib') \n",
    "    mod = clf.predict(data)\n",
    "    return label[mod]\n",
    "data = train_df[['RepetitionTime', 'EchoTime', 'EchoTrainLength', 'FlipAngle', 'ImagingFrequency', 'NumberOfAverages', 'MagneticFieldStrength', 'EchoNumbers', 'ContrastBolusAgent']]\n",
    "mod = get_modality(data)"
   ]
  },
  {
   "cell_type": "code",
   "execution_count": 115,
   "id": "5506a67e",
   "metadata": {},
   "outputs": [
    {
     "name": "stderr",
     "output_type": "stream",
     "text": [
      "\n",
      "A value is trying to be set on a copy of a slice from a DataFrame.\n",
      "Try using .loc[row_indexer,col_indexer] = value instead\n",
      "\n",
      "See the caveats in the documentation: https://pandas.pydata.org/pandas-docs/stable/user_guide/indexing.html#returning-a-view-versus-a-copy\n"
     ]
    },
    {
     "ename": "ValueError",
     "evalue": "Input contains NaN, infinity or a value too large for dtype('float32').",
     "output_type": "error",
     "traceback": [
      "\u001b[0;31m---------------------------------------------------------------------------\u001b[0m",
      "\u001b[0;31mValueError\u001b[0m                                Traceback (most recent call last)",
      "\u001b[0;32m/tmp/ipykernel_498357/403836216.py\u001b[0m in \u001b[0;36m<module>\u001b[0;34m\u001b[0m\n\u001b[1;32m      2\u001b[0m \u001b[0mdf\u001b[0m\u001b[0;34m=\u001b[0m\u001b[0mpd\u001b[0m\u001b[0;34m.\u001b[0m\u001b[0mread_csv\u001b[0m\u001b[0;34m(\u001b[0m\u001b[0mpath_metadata\u001b[0m\u001b[0;34m)\u001b[0m\u001b[0;34m\u001b[0m\u001b[0;34m\u001b[0m\u001b[0m\n\u001b[1;32m      3\u001b[0m \u001b[0mfeature\u001b[0m \u001b[0;34m=\u001b[0m \u001b[0;34m[\u001b[0m\u001b[0;34m'RepetitionTime'\u001b[0m\u001b[0;34m,\u001b[0m \u001b[0;34m'EchoTime'\u001b[0m\u001b[0;34m,\u001b[0m \u001b[0;34m'EchoTrainLength'\u001b[0m\u001b[0;34m,\u001b[0m \u001b[0;34m'FlipAngle'\u001b[0m\u001b[0;34m,\u001b[0m \u001b[0;34m'ImagingFrequency'\u001b[0m\u001b[0;34m,\u001b[0m \u001b[0;34m'NumberOfAverages'\u001b[0m\u001b[0;34m,\u001b[0m \u001b[0;34m'MagneticFieldStrength'\u001b[0m\u001b[0;34m,\u001b[0m \u001b[0;34m'EchoNumbers'\u001b[0m\u001b[0;34m,\u001b[0m \u001b[0;34m'ContrastBolusAgent'\u001b[0m\u001b[0;34m]\u001b[0m\u001b[0;34m\u001b[0m\u001b[0;34m\u001b[0m\u001b[0m\n\u001b[0;32m----> 4\u001b[0;31m \u001b[0mmod\u001b[0m \u001b[0;34m=\u001b[0m \u001b[0mget_modality\u001b[0m\u001b[0;34m(\u001b[0m\u001b[0mdf\u001b[0m\u001b[0;34m[\u001b[0m\u001b[0mfeature\u001b[0m\u001b[0;34m]\u001b[0m\u001b[0;34m)\u001b[0m\u001b[0;34m\u001b[0m\u001b[0;34m\u001b[0m\u001b[0m\n\u001b[0m",
      "\u001b[0;32m/tmp/ipykernel_498357/3265913186.py\u001b[0m in \u001b[0;36mget_modality\u001b[0;34m(data, path)\u001b[0m\n\u001b[1;32m      4\u001b[0m     \u001b[0mlabel\u001b[0m \u001b[0;34m=\u001b[0m \u001b[0mnp\u001b[0m\u001b[0;34m.\u001b[0m\u001b[0marray\u001b[0m\u001b[0;34m(\u001b[0m\u001b[0;34m[\u001b[0m\u001b[0;34m'Flair'\u001b[0m\u001b[0;34m,\u001b[0m \u001b[0;34m'T2'\u001b[0m\u001b[0;34m,\u001b[0m \u001b[0;34m'T1'\u001b[0m\u001b[0;34m,\u001b[0m \u001b[0;34m'T1c'\u001b[0m\u001b[0;34m]\u001b[0m\u001b[0;34m)\u001b[0m\u001b[0;34m\u001b[0m\u001b[0;34m\u001b[0m\u001b[0m\n\u001b[1;32m      5\u001b[0m     \u001b[0mclf\u001b[0m \u001b[0;34m=\u001b[0m \u001b[0mload\u001b[0m\u001b[0;34m(\u001b[0m\u001b[0;34m'randomforest.joblib'\u001b[0m\u001b[0;34m)\u001b[0m\u001b[0;34m\u001b[0m\u001b[0;34m\u001b[0m\u001b[0m\n\u001b[0;32m----> 6\u001b[0;31m     \u001b[0mmod\u001b[0m \u001b[0;34m=\u001b[0m \u001b[0mclf\u001b[0m\u001b[0;34m.\u001b[0m\u001b[0mpredict\u001b[0m\u001b[0;34m(\u001b[0m\u001b[0mdata\u001b[0m\u001b[0;34m)\u001b[0m\u001b[0;34m\u001b[0m\u001b[0;34m\u001b[0m\u001b[0m\n\u001b[0m\u001b[1;32m      7\u001b[0m     \u001b[0;32mreturn\u001b[0m \u001b[0mlabel\u001b[0m\u001b[0;34m[\u001b[0m\u001b[0mmod\u001b[0m\u001b[0;34m]\u001b[0m\u001b[0;34m\u001b[0m\u001b[0;34m\u001b[0m\u001b[0m\n\u001b[1;32m      8\u001b[0m \u001b[0mdata\u001b[0m \u001b[0;34m=\u001b[0m \u001b[0mtrain_df\u001b[0m\u001b[0;34m[\u001b[0m\u001b[0;34m[\u001b[0m\u001b[0;34m'RepetitionTime'\u001b[0m\u001b[0;34m,\u001b[0m \u001b[0;34m'EchoTime'\u001b[0m\u001b[0;34m,\u001b[0m \u001b[0;34m'EchoTrainLength'\u001b[0m\u001b[0;34m,\u001b[0m \u001b[0;34m'FlipAngle'\u001b[0m\u001b[0;34m,\u001b[0m \u001b[0;34m'ImagingFrequency'\u001b[0m\u001b[0;34m,\u001b[0m \u001b[0;34m'NumberOfAverages'\u001b[0m\u001b[0;34m,\u001b[0m \u001b[0;34m'MagneticFieldStrength'\u001b[0m\u001b[0;34m,\u001b[0m \u001b[0;34m'EchoNumbers'\u001b[0m\u001b[0;34m,\u001b[0m \u001b[0;34m'ContrastBolusAgent'\u001b[0m\u001b[0;34m]\u001b[0m\u001b[0;34m]\u001b[0m\u001b[0;34m\u001b[0m\u001b[0;34m\u001b[0m\u001b[0m\n",
      "\u001b[0;32m~/.local/lib/python3.8/site-packages/sklearn/ensemble/_forest.py\u001b[0m in \u001b[0;36mpredict\u001b[0;34m(self, X)\u001b[0m\n\u001b[1;32m    628\u001b[0m             \u001b[0mThe\u001b[0m \u001b[0mpredicted\u001b[0m \u001b[0mclasses\u001b[0m\u001b[0;34m.\u001b[0m\u001b[0;34m\u001b[0m\u001b[0;34m\u001b[0m\u001b[0m\n\u001b[1;32m    629\u001b[0m         \"\"\"\n\u001b[0;32m--> 630\u001b[0;31m         \u001b[0mproba\u001b[0m \u001b[0;34m=\u001b[0m \u001b[0mself\u001b[0m\u001b[0;34m.\u001b[0m\u001b[0mpredict_proba\u001b[0m\u001b[0;34m(\u001b[0m\u001b[0mX\u001b[0m\u001b[0;34m)\u001b[0m\u001b[0;34m\u001b[0m\u001b[0;34m\u001b[0m\u001b[0m\n\u001b[0m\u001b[1;32m    631\u001b[0m \u001b[0;34m\u001b[0m\u001b[0m\n\u001b[1;32m    632\u001b[0m         \u001b[0;32mif\u001b[0m \u001b[0mself\u001b[0m\u001b[0;34m.\u001b[0m\u001b[0mn_outputs_\u001b[0m \u001b[0;34m==\u001b[0m \u001b[0;36m1\u001b[0m\u001b[0;34m:\u001b[0m\u001b[0;34m\u001b[0m\u001b[0;34m\u001b[0m\u001b[0m\n",
      "\u001b[0;32m~/.local/lib/python3.8/site-packages/sklearn/ensemble/_forest.py\u001b[0m in \u001b[0;36mpredict_proba\u001b[0;34m(self, X)\u001b[0m\n\u001b[1;32m    672\u001b[0m         \u001b[0mcheck_is_fitted\u001b[0m\u001b[0;34m(\u001b[0m\u001b[0mself\u001b[0m\u001b[0;34m)\u001b[0m\u001b[0;34m\u001b[0m\u001b[0;34m\u001b[0m\u001b[0m\n\u001b[1;32m    673\u001b[0m         \u001b[0;31m# Check data\u001b[0m\u001b[0;34m\u001b[0m\u001b[0;34m\u001b[0m\u001b[0;34m\u001b[0m\u001b[0m\n\u001b[0;32m--> 674\u001b[0;31m         \u001b[0mX\u001b[0m \u001b[0;34m=\u001b[0m \u001b[0mself\u001b[0m\u001b[0;34m.\u001b[0m\u001b[0m_validate_X_predict\u001b[0m\u001b[0;34m(\u001b[0m\u001b[0mX\u001b[0m\u001b[0;34m)\u001b[0m\u001b[0;34m\u001b[0m\u001b[0;34m\u001b[0m\u001b[0m\n\u001b[0m\u001b[1;32m    675\u001b[0m \u001b[0;34m\u001b[0m\u001b[0m\n\u001b[1;32m    676\u001b[0m         \u001b[0;31m# Assign chunk of trees to jobs\u001b[0m\u001b[0;34m\u001b[0m\u001b[0;34m\u001b[0m\u001b[0;34m\u001b[0m\u001b[0m\n",
      "\u001b[0;32m~/.local/lib/python3.8/site-packages/sklearn/ensemble/_forest.py\u001b[0m in \u001b[0;36m_validate_X_predict\u001b[0;34m(self, X)\u001b[0m\n\u001b[1;32m    420\u001b[0m         \u001b[0mcheck_is_fitted\u001b[0m\u001b[0;34m(\u001b[0m\u001b[0mself\u001b[0m\u001b[0;34m)\u001b[0m\u001b[0;34m\u001b[0m\u001b[0;34m\u001b[0m\u001b[0m\n\u001b[1;32m    421\u001b[0m \u001b[0;34m\u001b[0m\u001b[0m\n\u001b[0;32m--> 422\u001b[0;31m         \u001b[0;32mreturn\u001b[0m \u001b[0mself\u001b[0m\u001b[0;34m.\u001b[0m\u001b[0mestimators_\u001b[0m\u001b[0;34m[\u001b[0m\u001b[0;36m0\u001b[0m\u001b[0;34m]\u001b[0m\u001b[0;34m.\u001b[0m\u001b[0m_validate_X_predict\u001b[0m\u001b[0;34m(\u001b[0m\u001b[0mX\u001b[0m\u001b[0;34m,\u001b[0m \u001b[0mcheck_input\u001b[0m\u001b[0;34m=\u001b[0m\u001b[0;32mTrue\u001b[0m\u001b[0;34m)\u001b[0m\u001b[0;34m\u001b[0m\u001b[0;34m\u001b[0m\u001b[0m\n\u001b[0m\u001b[1;32m    423\u001b[0m \u001b[0;34m\u001b[0m\u001b[0m\n\u001b[1;32m    424\u001b[0m     \u001b[0;34m@\u001b[0m\u001b[0mproperty\u001b[0m\u001b[0;34m\u001b[0m\u001b[0;34m\u001b[0m\u001b[0m\n",
      "\u001b[0;32m~/.local/lib/python3.8/site-packages/sklearn/tree/_classes.py\u001b[0m in \u001b[0;36m_validate_X_predict\u001b[0;34m(self, X, check_input)\u001b[0m\n\u001b[1;32m    405\u001b[0m         \u001b[0;34m\"\"\"Validate the training data on predict (probabilities).\"\"\"\u001b[0m\u001b[0;34m\u001b[0m\u001b[0;34m\u001b[0m\u001b[0m\n\u001b[1;32m    406\u001b[0m         \u001b[0;32mif\u001b[0m \u001b[0mcheck_input\u001b[0m\u001b[0;34m:\u001b[0m\u001b[0;34m\u001b[0m\u001b[0;34m\u001b[0m\u001b[0m\n\u001b[0;32m--> 407\u001b[0;31m             X = self._validate_data(X, dtype=DTYPE, accept_sparse=\"csr\",\n\u001b[0m\u001b[1;32m    408\u001b[0m                                     reset=False)\n\u001b[1;32m    409\u001b[0m             if issparse(X) and (X.indices.dtype != np.intc or\n",
      "\u001b[0;32m~/.local/lib/python3.8/site-packages/sklearn/base.py\u001b[0m in \u001b[0;36m_validate_data\u001b[0;34m(self, X, y, reset, validate_separately, **check_params)\u001b[0m\n\u001b[1;32m    419\u001b[0m             \u001b[0mout\u001b[0m \u001b[0;34m=\u001b[0m \u001b[0mX\u001b[0m\u001b[0;34m\u001b[0m\u001b[0;34m\u001b[0m\u001b[0m\n\u001b[1;32m    420\u001b[0m         \u001b[0;32melif\u001b[0m \u001b[0misinstance\u001b[0m\u001b[0;34m(\u001b[0m\u001b[0my\u001b[0m\u001b[0;34m,\u001b[0m \u001b[0mstr\u001b[0m\u001b[0;34m)\u001b[0m \u001b[0;32mand\u001b[0m \u001b[0my\u001b[0m \u001b[0;34m==\u001b[0m \u001b[0;34m'no_validation'\u001b[0m\u001b[0;34m:\u001b[0m\u001b[0;34m\u001b[0m\u001b[0;34m\u001b[0m\u001b[0m\n\u001b[0;32m--> 421\u001b[0;31m             \u001b[0mX\u001b[0m \u001b[0;34m=\u001b[0m \u001b[0mcheck_array\u001b[0m\u001b[0;34m(\u001b[0m\u001b[0mX\u001b[0m\u001b[0;34m,\u001b[0m \u001b[0;34m**\u001b[0m\u001b[0mcheck_params\u001b[0m\u001b[0;34m)\u001b[0m\u001b[0;34m\u001b[0m\u001b[0;34m\u001b[0m\u001b[0m\n\u001b[0m\u001b[1;32m    422\u001b[0m             \u001b[0mout\u001b[0m \u001b[0;34m=\u001b[0m \u001b[0mX\u001b[0m\u001b[0;34m\u001b[0m\u001b[0;34m\u001b[0m\u001b[0m\n\u001b[1;32m    423\u001b[0m         \u001b[0;32melse\u001b[0m\u001b[0;34m:\u001b[0m\u001b[0;34m\u001b[0m\u001b[0;34m\u001b[0m\u001b[0m\n",
      "\u001b[0;32m~/.local/lib/python3.8/site-packages/sklearn/utils/validation.py\u001b[0m in \u001b[0;36minner_f\u001b[0;34m(*args, **kwargs)\u001b[0m\n\u001b[1;32m     61\u001b[0m             \u001b[0mextra_args\u001b[0m \u001b[0;34m=\u001b[0m \u001b[0mlen\u001b[0m\u001b[0;34m(\u001b[0m\u001b[0margs\u001b[0m\u001b[0;34m)\u001b[0m \u001b[0;34m-\u001b[0m \u001b[0mlen\u001b[0m\u001b[0;34m(\u001b[0m\u001b[0mall_args\u001b[0m\u001b[0;34m)\u001b[0m\u001b[0;34m\u001b[0m\u001b[0;34m\u001b[0m\u001b[0m\n\u001b[1;32m     62\u001b[0m             \u001b[0;32mif\u001b[0m \u001b[0mextra_args\u001b[0m \u001b[0;34m<=\u001b[0m \u001b[0;36m0\u001b[0m\u001b[0;34m:\u001b[0m\u001b[0;34m\u001b[0m\u001b[0;34m\u001b[0m\u001b[0m\n\u001b[0;32m---> 63\u001b[0;31m                 \u001b[0;32mreturn\u001b[0m \u001b[0mf\u001b[0m\u001b[0;34m(\u001b[0m\u001b[0;34m*\u001b[0m\u001b[0margs\u001b[0m\u001b[0;34m,\u001b[0m \u001b[0;34m**\u001b[0m\u001b[0mkwargs\u001b[0m\u001b[0;34m)\u001b[0m\u001b[0;34m\u001b[0m\u001b[0;34m\u001b[0m\u001b[0m\n\u001b[0m\u001b[1;32m     64\u001b[0m \u001b[0;34m\u001b[0m\u001b[0m\n\u001b[1;32m     65\u001b[0m             \u001b[0;31m# extra_args > 0\u001b[0m\u001b[0;34m\u001b[0m\u001b[0;34m\u001b[0m\u001b[0;34m\u001b[0m\u001b[0m\n",
      "\u001b[0;32m~/.local/lib/python3.8/site-packages/sklearn/utils/validation.py\u001b[0m in \u001b[0;36mcheck_array\u001b[0;34m(array, accept_sparse, accept_large_sparse, dtype, order, copy, force_all_finite, ensure_2d, allow_nd, ensure_min_samples, ensure_min_features, estimator)\u001b[0m\n\u001b[1;32m    718\u001b[0m \u001b[0;34m\u001b[0m\u001b[0m\n\u001b[1;32m    719\u001b[0m         \u001b[0;32mif\u001b[0m \u001b[0mforce_all_finite\u001b[0m\u001b[0;34m:\u001b[0m\u001b[0;34m\u001b[0m\u001b[0;34m\u001b[0m\u001b[0m\n\u001b[0;32m--> 720\u001b[0;31m             _assert_all_finite(array,\n\u001b[0m\u001b[1;32m    721\u001b[0m                                allow_nan=force_all_finite == 'allow-nan')\n\u001b[1;32m    722\u001b[0m \u001b[0;34m\u001b[0m\u001b[0m\n",
      "\u001b[0;32m~/.local/lib/python3.8/site-packages/sklearn/utils/validation.py\u001b[0m in \u001b[0;36m_assert_all_finite\u001b[0;34m(X, allow_nan, msg_dtype)\u001b[0m\n\u001b[1;32m    101\u001b[0m                 not allow_nan and not np.isfinite(X).all()):\n\u001b[1;32m    102\u001b[0m             \u001b[0mtype_err\u001b[0m \u001b[0;34m=\u001b[0m \u001b[0;34m'infinity'\u001b[0m \u001b[0;32mif\u001b[0m \u001b[0mallow_nan\u001b[0m \u001b[0;32melse\u001b[0m \u001b[0;34m'NaN, infinity'\u001b[0m\u001b[0;34m\u001b[0m\u001b[0;34m\u001b[0m\u001b[0m\n\u001b[0;32m--> 103\u001b[0;31m             raise ValueError(\n\u001b[0m\u001b[1;32m    104\u001b[0m                     \u001b[0mmsg_err\u001b[0m\u001b[0;34m.\u001b[0m\u001b[0mformat\u001b[0m\u001b[0;34m\u001b[0m\u001b[0;34m\u001b[0m\u001b[0m\n\u001b[1;32m    105\u001b[0m                     (type_err,\n",
      "\u001b[0;31mValueError\u001b[0m: Input contains NaN, infinity or a value too large for dtype('float32')."
     ]
    }
   ],
   "source": [
    "path_metadata = Path('/home/polina/private_datasets/glioma_burdenko/new_csv/meta_all.csv')\n",
    "df=pd.read_csv(path_metadata)\n",
    "feature = ['RepetitionTime', 'EchoTime', 'EchoTrainLength', 'FlipAngle', 'ImagingFrequency', 'NumberOfAverages', 'MagneticFieldStrength', 'EchoNumbers', 'ContrastBolusAgent']\n",
    "mod = get_modality(df[feature])"
   ]
  },
  {
   "cell_type": "code",
   "execution_count": null,
   "id": "abffac36",
   "metadata": {},
   "outputs": [],
   "source": []
  }
 ],
 "metadata": {
  "kernelspec": {
   "display_name": "glioma",
   "language": "python",
   "name": "glioma"
  },
  "language_info": {
   "codemirror_mode": {
    "name": "ipython",
    "version": 3
   },
   "file_extension": ".py",
   "mimetype": "text/x-python",
   "name": "python",
   "nbconvert_exporter": "python",
   "pygments_lexer": "ipython3",
   "version": "3.8.10"
  }
 },
 "nbformat": 4,
 "nbformat_minor": 5
}

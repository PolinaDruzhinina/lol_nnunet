{
 "cells": [
  {
   "cell_type": "markdown",
   "id": "58bd2d01-31f0-496f-a587-e672eebd1fcd",
   "metadata": {},
   "source": [
    "### Libraries import"
   ]
  },
  {
   "cell_type": "code",
   "execution_count": 2,
   "id": "012b342b-3b64-4c0f-a97e-f180bdbce562",
   "metadata": {},
   "outputs": [],
   "source": [
    "import tarfile\n",
    "import nibabel as nib\n",
    "import glob\n",
    "import numpy as np \n",
    "import matplotlib.pyplot as plt\n",
    "import os\n",
    "import shutil\n",
    "import json\n",
    "\n",
    "data_dir = '/home/a-brazhnikov/nnUNet_raw_data_base/nnUNet_raw_data/Task602_brats_wT_3classes/'\n",
    "imagesTr = os.path.join(data_dir, 'imagesTr')\n",
    "imagesTr2 = os.path.join(data_dir, 'imagesTr2')\n",
    "labelsTr = os.path.join(data_dir, 'labelsTr')"
   ]
  },
  {
   "cell_type": "markdown",
   "id": "8dc8d766-d2d7-4113-9bdd-79fc886f6771",
   "metadata": {},
   "source": [
    "### Untar dataset"
   ]
  },
  {
   "cell_type": "code",
   "execution_count": 39,
   "id": "475dc47e-472d-4924-b90b-f3100babc563",
   "metadata": {},
   "outputs": [],
   "source": [
    "def untar_brats(path):\n",
    "    tar = tarfile.open(path)\n",
    "    tar.extractall('.')\n",
    "    tar.close()\n",
    "untar_brats('/home/a-brazhnikov/Brats2021/BraTS2021_Training_Data.tar')"
   ]
  },
  {
   "cell_type": "markdown",
   "id": "6773eb15-feb4-4eea-94c2-2307bfa0481e",
   "metadata": {},
   "source": [
    "### Preprocessing"
   ]
  },
  {
   "cell_type": "code",
   "execution_count": 19,
   "id": "dbc1f36c-4063-4fc3-b38b-ab477cbaba2b",
   "metadata": {
    "scrolled": true,
    "tags": []
   },
   "outputs": [],
   "source": [
    "# To be honest this cell was rewritten many times with different functionality\n",
    "\n",
    "levels = ['t1','flair','t2','t1ce']\n",
    "for path in glob.glob(os.path.join(imagesTr, '*')):\n",
    "    \n",
    "    fname = os.path.basename(path).split('.nii.gz')[0]\n",
    "    '''\n",
    "    # Skip if file with such name already exists\n",
    "    if not os.path.exists(os.path.join(imagesTr, f'{fname}.nii.gz')):\n",
    "        raw_image = [nib.load(os.path.join(path, f'{fname}_{level}.nii.gz')) for level in levels]\n",
    "\n",
    "        # Save train file\n",
    "        data = np.asarray([np.asanyarray(d.dataobj) for d in raw_image])\n",
    "        image = nib.Nifti1Image(data, raw_image[0].affine, raw_image[0].header)\n",
    "        nib.save(image, os.path.join(imagesTr, f'{fname}.nii.gz'))\n",
    "    '''\n",
    "    # labels 0,1,2,4 to 0,1,2,3\n",
    "    label = nib.load(path)\n",
    "    data = np.asarray(label.dataobj, dtype=np.uint8)\n",
    "    #data[data==4] = 3\n",
    "    image = nib.Nifti1Image(data, label.affine, label.header)\n",
    "    nib.save(image, os.path.join(imagesTr2, f'{fname}_0004.nii.gz'))"
   ]
  },
  {
   "cell_type": "code",
   "execution_count": null,
   "id": "f93356fe-6149-4a11-8767-c478540afcf8",
   "metadata": {},
   "outputs": [],
   "source": [
    "# 0000 - t1\n",
    "# 0001 - t2\n",
    "# 0002 - t1ce\n",
    "# 0003 - flair\n",
    "# to rename in bash:\n",
    "# for file in *_t3*; do mv \"$file\" \"${file/_t3.nii.gz/_0002.nii.gz}\"; done"
   ]
  },
  {
   "cell_type": "code",
   "execution_count": 42,
   "id": "9ee0cf5d-c619-41e0-be75-e3c030a94d92",
   "metadata": {},
   "outputs": [],
   "source": [
    "# dataset.json доделать под формат, потом переместить в nnunet_raw, сделать препроцессинг и начать обучение."
   ]
  },
  {
   "cell_type": "code",
   "execution_count": 53,
   "id": "af2d009e-03d8-451c-be19-ec6e02cc5572",
   "metadata": {},
   "outputs": [
    {
     "name": "stdout",
     "output_type": "stream",
     "text": [
      "[0 1 2 3]\n"
     ]
    }
   ],
   "source": [
    "# labels to binary mask for the 5th layer model\n",
    "# labels 0,1,2,3 to 0,1\n",
    "data_dir = '/home/a-brazhnikov/nnUNet_raw_data_base/nnUNet_raw_data/Task602_brats_wT_3classes'\n",
    "labelsTr = os.path.join(data_dir, 'labelsTr')\n",
    "\n",
    "gl = glob.glob(os.path.join(labelsTr, '*'))\n",
    "for i, path in enumerate(gl):\n",
    "    label = nib.load(path)\n",
    "    data = np.asanyarray(label.dataobj)\n",
    "    print(np.unique(data))\n",
    "    break\n",
    "    \n",
    "    data[data!=0] = 1\n",
    "    image = nib.Nifti1Image(data, label.affine, label.header)\n",
    "    nib.save(image, path)\n",
    "    \n",
    "    if (i+1)%20==0:\n",
    "        print(f'{i+1}/{len(gl)}')"
   ]
  },
  {
   "cell_type": "code",
   "execution_count": 51,
   "id": "3947300f-0f67-4ff6-a3b7-dd113ce0c9d6",
   "metadata": {},
   "outputs": [
    {
     "name": "stdout",
     "output_type": "stream",
     "text": [
      "251\n"
     ]
    }
   ],
   "source": [
    "# Dataset json export\n",
    "labelsTr = '/home/a-brazhnikov/nnUNet_raw_data_base/nnUNet_raw_data/Task602_brats_wT_3classes/labelsTr'\n",
    "\n",
    "training = []\n",
    "for path in glob.glob(os.path.join(labelsTr, '*')):\n",
    "    fname = os.path.basename(path)\n",
    "    training.append({\n",
    "        'image': f'./imagesTr/{fname}',\n",
    "        'label': f'./labelsTr/{fname}'\n",
    "    })\n",
    "print(len(training))"
   ]
  },
  {
   "cell_type": "code",
   "execution_count": null,
   "id": "324d25fb-7de6-4a2f-9d6e-5e8d88fc5262",
   "metadata": {
    "tags": []
   },
   "outputs": [],
   "source": [
    "jsonStr = json.dumps(training)\n",
    "print(jsonStr)"
   ]
  },
  {
   "cell_type": "code",
   "execution_count": 22,
   "id": "3dd8318e-e051-43f5-bba1-515754b3bf37",
   "metadata": {},
   "outputs": [
    {
     "data": {
      "text/plain": [
       "1251"
      ]
     },
     "execution_count": 22,
     "metadata": {},
     "output_type": "execute_result"
    }
   ],
   "source": [
    "len(training)"
   ]
  },
  {
   "cell_type": "code",
   "execution_count": 49,
   "id": "8d69f21b-bb5e-4427-9313-179cdad328e0",
   "metadata": {},
   "outputs": [
    {
     "data": {
      "text/plain": [
       "'BraTS2021_00353.nii.gz'"
      ]
     },
     "execution_count": 49,
     "metadata": {},
     "output_type": "execute_result"
    }
   ],
   "source": [
    "os.path.basename(gl[0][:gl[0].rindex('_')]+'.nii.gz')"
   ]
  },
  {
   "cell_type": "code",
   "execution_count": 28,
   "id": "e58c1966-b515-4974-aafa-6f4ec131b224",
   "metadata": {},
   "outputs": [],
   "source": [
    "newdir = '/home/a-brazhnikov/nnUNet_raw_data_base/nnUNet_raw_data/Task602_brats_wT_3classes'\n",
    "olddir = '/home/a-brazhnikov/nnUNet_raw_data_base/nnUNet_raw_data/Task600_brats'\n",
    "newImg = os.path.join(newdir, 'imagesTr')\n",
    "oldImg = os.path.join(olddir, 'imagesTr')\n",
    "\n",
    "gl = glob.glob(os.path.join(newImg, '*'))\n",
    "files = [os.path.basename(path).split('_')[1] for path in gl]\n",
    "\n",
    "gl2 = glob.glob(os.path.join(oldImg, '*'))\n",
    "files2 = [os.path.basename(path) for path in gl2]\n",
    "for f in files2:\n",
    "    if f.split('_')[1] in files:\n",
    "        source = os.path.join(oldImg, f)\n",
    "        shutil.copy(source, newImg)"
   ]
  },
  {
   "cell_type": "code",
   "execution_count": null,
   "id": "b6eb5e67-c56d-454a-b380-30738c6f3037",
   "metadata": {},
   "outputs": [],
   "source": [
    "newLbl = os.path.join(newdir, 'labelsTr')\n",
    "oldLbl = os.path.join(olddir, 'labelsTr')\n",
    "\n",
    "gl2 = glob.glob(os.path.join(oldLbl, '*'))\n",
    "files2 = [os.path.basename(path) for path in gl2]\n",
    "for f in files2:\n",
    "    if f.split('_')[1].split('.')[0] in files:\n",
    "        source = os.path.join(oldLbl, f)\n",
    "        shutil.copy(source, newLbl)"
   ]
  },
  {
   "cell_type": "code",
   "execution_count": 40,
   "id": "4ec158bc-5781-40d3-a2e2-c6cc77f0512b",
   "metadata": {},
   "outputs": [
    {
     "data": {
      "text/plain": [
       "'/home/a-brazhnikov/nnUNet_raw_data_base/nnUNet_raw_data/Task602_brats_wT_3classes/dataset.json'"
      ]
     },
     "execution_count": 40,
     "metadata": {},
     "output_type": "execute_result"
    }
   ],
   "source": [
    "shutil.copy(olddir+'/dataset.json',newdir+'/dataset.json')"
   ]
  },
  {
   "cell_type": "markdown",
   "id": "6747ffa6-ca96-4edc-934b-52c146ccc78b",
   "metadata": {},
   "source": [
    "### Models evaluation"
   ]
  },
  {
   "cell_type": "code",
   "execution_count": 4,
   "id": "7f91f5dd-99f3-493c-a8aa-8cdd24f05877",
   "metadata": {},
   "outputs": [],
   "source": [
    "### Precision Recall\n",
    "direct = '/home/a-brazhnikov/nnUNet_trained_models/nnUNet/3d_fullres/Task600_brats/nnUNetTrainerV2_100__nnUNetPlansv2.1/fold_0/validation_raw/'\n",
    "fname = 'summary.json'\n",
    "f = open(direct+fname)\n",
    "data = json.load(f)"
   ]
  },
  {
   "cell_type": "code",
   "execution_count": 7,
   "id": "2afd48d1-8614-4d44-8d7b-9ed25cdd9d4b",
   "metadata": {},
   "outputs": [
    {
     "data": {
      "text/plain": [
       "dict_keys(['all', 'mean'])"
      ]
     },
     "execution_count": 7,
     "metadata": {},
     "output_type": "execute_result"
    }
   ],
   "source": [
    "data['results'].keys()"
   ]
  },
  {
   "cell_type": "code",
   "execution_count": 9,
   "id": "547cfc95-6050-4a73-9b3a-9eb394d15d8e",
   "metadata": {},
   "outputs": [
    {
     "name": "stdout",
     "output_type": "stream",
     "text": [
      "1 0.8424811738416044 0.8195362818936061\n",
      "2 0.8676067464795979 0.8734661128248886\n",
      "3 0.8741236163717975 0.8888582788416072\n"
     ]
    }
   ],
   "source": [
    "for p in data['results']['mean']:\n",
    "    if p>'0':\n",
    "        res = data['results']['mean'][p]\n",
    "        precission = res['Precision']\n",
    "        recall = res['Recall']\n",
    "        print(f'{p} {precission} {recall}')"
   ]
  },
  {
   "cell_type": "code",
   "execution_count": 5,
   "id": "ad347bba-962d-4472-bf44-266a3767bc74",
   "metadata": {},
   "outputs": [
    {
     "name": "stdout",
     "output_type": "stream",
     "text": [
      "1 0.9468770881471237 0.9278853560254025\n",
      "2 nan nan\n",
      "3 nan nan\n"
     ]
    }
   ],
   "source": [
    "direct = '/home/a-brazhnikov/nnUNet_trained_models/nnUNet/3d_fullres/Task601_brats_wholeTumor/nnUNetTrainerV2_100__nnUNetPlansv2.1/fold_0/validation_raw/'\n",
    "\n",
    "fname = 'summary.json'\n",
    "f = open(direct+fname)\n",
    "data = json.load(f)\n",
    "\n",
    "for p in data['results']['mean']:\n",
    "    if p>'0':\n",
    "        res = data['results']['mean'][p]\n",
    "        precission = res['Precision']\n",
    "        recall = res['Recall']\n",
    "        print(f'{p} {precission} {recall}')"
   ]
  },
  {
   "cell_type": "code",
   "execution_count": 6,
   "id": "c417295d-3de5-419b-ab8b-38604b7f167e",
   "metadata": {},
   "outputs": [
    {
     "name": "stdout",
     "output_type": "stream",
     "text": [
      "1 0.8431371583551984 0.8679641710678553\n",
      "2 0.8759775251836446 0.8677059991315136\n",
      "3 0.9062500883588603 0.8982022370631257\n"
     ]
    }
   ],
   "source": [
    "direct = '/home/a-brazhnikov/nnUNet_trained_models/nnUNet/3d_fullres/Task602_brats_wT_3classes/nnUNetTrainerV2_70__nnUNetPlansv2.1/fold_0/validation_raw/'\n",
    "\n",
    "fname = 'summary.json'\n",
    "f = open(direct+fname)\n",
    "data = json.load(f)\n",
    "\n",
    "for p in data['results']['mean']:\n",
    "    if p>'0':\n",
    "        res = data['results']['mean'][p]\n",
    "        precission = res['Precision']\n",
    "        recall = res['Recall']\n",
    "        print(f'{p} {precission} {recall}')"
   ]
  },
  {
   "cell_type": "code",
   "execution_count": null,
   "id": "12def293-14b4-4734-a5e3-ed0ff8135c72",
   "metadata": {},
   "outputs": [],
   "source": []
  }
 ],
 "metadata": {
  "kernelspec": {
   "display_name": "Python 3 (ipykernel)",
   "language": "python",
   "name": "python3"
  },
  "language_info": {
   "codemirror_mode": {
    "name": "ipython",
    "version": 3
   },
   "file_extension": ".py",
   "mimetype": "text/x-python",
   "name": "python",
   "nbconvert_exporter": "python",
   "pygments_lexer": "ipython3",
   "version": "3.8.10"
  }
 },
 "nbformat": 4,
 "nbformat_minor": 5
}

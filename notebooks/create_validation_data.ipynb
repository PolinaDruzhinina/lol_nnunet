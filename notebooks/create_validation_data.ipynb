{
 "cells": [
  {
   "cell_type": "code",
   "execution_count": 1,
   "id": "d0478f6f",
   "metadata": {},
   "outputs": [],
   "source": [
    "import json\n",
    "from pathlib import Path\n",
    "import shutil\n",
    "import os"
   ]
  },
  {
   "cell_type": "code",
   "execution_count": 2,
   "id": "ed1469e1",
   "metadata": {},
   "outputs": [],
   "source": [
    "PATH_TO_DIR='data/dataset/BraTS2021_Training_Data/'\n",
    "VALIDATION_PATH ='data/dataset/BraTS2021_Validation_Data/'\n",
    "VALID_IDS_DIR ='data/brats_seed.json'"
   ]
  },
  {
   "cell_type": "code",
   "execution_count": 16,
   "id": "655c3b40",
   "metadata": {},
   "outputs": [],
   "source": [
    "with open(VALID_IDS_DIR, \"r\") as file:\n",
    " valid_ids =json.load(file)['fold_0']"
   ]
  },
  {
   "cell_type": "code",
   "execution_count": 17,
   "id": "9052f935",
   "metadata": {},
   "outputs": [],
   "source": [
    "valid_ids =[id1.split(\"/\")[-1][:-6] for id1 in valid_ids]"
   ]
  },
  {
   "cell_type": "code",
   "execution_count": 18,
   "id": "05575fc4",
   "metadata": {},
   "outputs": [
    {
     "data": {
      "text/plain": [
       "['BraTS2021_00000',\n",
       " 'BraTS2021_00009',\n",
       " 'BraTS2021_00016',\n",
       " 'BraTS2021_00024',\n",
       " 'BraTS2021_00028',\n",
       " 'BraTS2021_00031',\n",
       " 'BraTS2021_00035',\n",
       " 'BraTS2021_00045',\n",
       " 'BraTS2021_00046',\n",
       " 'BraTS2021_00051',\n",
       " 'BraTS2021_00070',\n",
       " 'BraTS2021_00078',\n",
       " 'BraTS2021_00085',\n",
       " 'BraTS2021_00087',\n",
       " 'BraTS2021_00088',\n",
       " 'BraTS2021_00089',\n",
       " 'BraTS2021_00099',\n",
       " 'BraTS2021_00102',\n",
       " 'BraTS2021_00104',\n",
       " 'BraTS2021_00106',\n",
       " 'BraTS2021_00107',\n",
       " 'BraTS2021_00110',\n",
       " 'BraTS2021_00117',\n",
       " 'BraTS2021_00123',\n",
       " 'BraTS2021_00126',\n",
       " 'BraTS2021_00127',\n",
       " 'BraTS2021_00130',\n",
       " 'BraTS2021_00136',\n",
       " 'BraTS2021_00137',\n",
       " 'BraTS2021_00140',\n",
       " 'BraTS2021_00144',\n",
       " 'BraTS2021_00152',\n",
       " 'BraTS2021_00160',\n",
       " 'BraTS2021_00185',\n",
       " 'BraTS2021_00192',\n",
       " 'BraTS2021_00194',\n",
       " 'BraTS2021_00211',\n",
       " 'BraTS2021_00212',\n",
       " 'BraTS2021_00214',\n",
       " 'BraTS2021_00217',\n",
       " 'BraTS2021_00218',\n",
       " 'BraTS2021_00231',\n",
       " 'BraTS2021_00243',\n",
       " 'BraTS2021_00251',\n",
       " 'BraTS2021_00266',\n",
       " 'BraTS2021_00270',\n",
       " 'BraTS2021_00274',\n",
       " 'BraTS2021_00283',\n",
       " 'BraTS2021_00286',\n",
       " 'BraTS2021_00292',\n",
       " 'BraTS2021_00294',\n",
       " 'BraTS2021_00304',\n",
       " 'BraTS2021_00311',\n",
       " 'BraTS2021_00313',\n",
       " 'BraTS2021_00334',\n",
       " 'BraTS2021_00336',\n",
       " 'BraTS2021_00350',\n",
       " 'BraTS2021_00353',\n",
       " 'BraTS2021_00366',\n",
       " 'BraTS2021_00375',\n",
       " 'BraTS2021_00376',\n",
       " 'BraTS2021_00379',\n",
       " 'BraTS2021_00391',\n",
       " 'BraTS2021_00399',\n",
       " 'BraTS2021_00402',\n",
       " 'BraTS2021_00419',\n",
       " 'BraTS2021_00423',\n",
       " 'BraTS2021_00426',\n",
       " 'BraTS2021_00430',\n",
       " 'BraTS2021_00433',\n",
       " 'BraTS2021_00436',\n",
       " 'BraTS2021_00442',\n",
       " 'BraTS2021_00464',\n",
       " 'BraTS2021_00480',\n",
       " 'BraTS2021_00485',\n",
       " 'BraTS2021_00495',\n",
       " 'BraTS2021_00500',\n",
       " 'BraTS2021_00514',\n",
       " 'BraTS2021_00516',\n",
       " 'BraTS2021_00549',\n",
       " 'BraTS2021_00558',\n",
       " 'BraTS2021_00583',\n",
       " 'BraTS2021_00586',\n",
       " 'BraTS2021_00587',\n",
       " 'BraTS2021_00597',\n",
       " 'BraTS2021_00602',\n",
       " 'BraTS2021_00605',\n",
       " 'BraTS2021_00607',\n",
       " 'BraTS2021_00630',\n",
       " 'BraTS2021_00639',\n",
       " 'BraTS2021_00641',\n",
       " 'BraTS2021_00654',\n",
       " 'BraTS2021_00693',\n",
       " 'BraTS2021_00709',\n",
       " 'BraTS2021_00715',\n",
       " 'BraTS2021_00716',\n",
       " 'BraTS2021_00727',\n",
       " 'BraTS2021_00733',\n",
       " 'BraTS2021_00735',\n",
       " 'BraTS2021_00753',\n",
       " 'BraTS2021_00757',\n",
       " 'BraTS2021_00759',\n",
       " 'BraTS2021_00772',\n",
       " 'BraTS2021_00775',\n",
       " 'BraTS2021_00777',\n",
       " 'BraTS2021_00782',\n",
       " 'BraTS2021_00791',\n",
       " 'BraTS2021_00793',\n",
       " 'BraTS2021_00810',\n",
       " 'BraTS2021_00818',\n",
       " 'BraTS2021_00834',\n",
       " 'BraTS2021_00836',\n",
       " 'BraTS2021_01001',\n",
       " 'BraTS2021_01004',\n",
       " 'BraTS2021_01005',\n",
       " 'BraTS2021_01018',\n",
       " 'BraTS2021_01037',\n",
       " 'BraTS2021_01043',\n",
       " 'BraTS2021_01050',\n",
       " 'BraTS2021_01051',\n",
       " 'BraTS2021_01058',\n",
       " 'BraTS2021_01063',\n",
       " 'BraTS2021_01066',\n",
       " 'BraTS2021_01072',\n",
       " 'BraTS2021_01079',\n",
       " 'BraTS2021_01081',\n",
       " 'BraTS2021_01088',\n",
       " 'BraTS2021_01089',\n",
       " 'BraTS2021_01096',\n",
       " 'BraTS2021_01101',\n",
       " 'BraTS2021_01110',\n",
       " 'BraTS2021_01118',\n",
       " 'BraTS2021_01123',\n",
       " 'BraTS2021_01124',\n",
       " 'BraTS2021_01137',\n",
       " 'BraTS2021_01141',\n",
       " 'BraTS2021_01142',\n",
       " 'BraTS2021_01146',\n",
       " 'BraTS2021_01147',\n",
       " 'BraTS2021_01152',\n",
       " 'BraTS2021_01162',\n",
       " 'BraTS2021_01169',\n",
       " 'BraTS2021_01170',\n",
       " 'BraTS2021_01173',\n",
       " 'BraTS2021_01181',\n",
       " 'BraTS2021_01183',\n",
       " 'BraTS2021_01191',\n",
       " 'BraTS2021_01198',\n",
       " 'BraTS2021_01206',\n",
       " 'BraTS2021_01208',\n",
       " 'BraTS2021_01209',\n",
       " 'BraTS2021_01210',\n",
       " 'BraTS2021_01211',\n",
       " 'BraTS2021_01212',\n",
       " 'BraTS2021_01225',\n",
       " 'BraTS2021_01231',\n",
       " 'BraTS2021_01237',\n",
       " 'BraTS2021_01238',\n",
       " 'BraTS2021_01239',\n",
       " 'BraTS2021_01240',\n",
       " 'BraTS2021_01262',\n",
       " 'BraTS2021_01265',\n",
       " 'BraTS2021_01273',\n",
       " 'BraTS2021_01274',\n",
       " 'BraTS2021_01282',\n",
       " 'BraTS2021_01283',\n",
       " 'BraTS2021_01284',\n",
       " 'BraTS2021_01289',\n",
       " 'BraTS2021_01294',\n",
       " 'BraTS2021_01296',\n",
       " 'BraTS2021_01305',\n",
       " 'BraTS2021_01306',\n",
       " 'BraTS2021_01312',\n",
       " 'BraTS2021_01316',\n",
       " 'BraTS2021_01319',\n",
       " 'BraTS2021_01320',\n",
       " 'BraTS2021_01326',\n",
       " 'BraTS2021_01328',\n",
       " 'BraTS2021_01331',\n",
       " 'BraTS2021_01333',\n",
       " 'BraTS2021_01335',\n",
       " 'BraTS2021_01339',\n",
       " 'BraTS2021_01340',\n",
       " 'BraTS2021_01342',\n",
       " 'BraTS2021_01345',\n",
       " 'BraTS2021_01349',\n",
       " 'BraTS2021_01350',\n",
       " 'BraTS2021_01356',\n",
       " 'BraTS2021_01357',\n",
       " 'BraTS2021_01359',\n",
       " 'BraTS2021_01361',\n",
       " 'BraTS2021_01363',\n",
       " 'BraTS2021_01367',\n",
       " 'BraTS2021_01375',\n",
       " 'BraTS2021_01387',\n",
       " 'BraTS2021_01388',\n",
       " 'BraTS2021_01389',\n",
       " 'BraTS2021_01398',\n",
       " 'BraTS2021_01399',\n",
       " 'BraTS2021_01402',\n",
       " 'BraTS2021_01423',\n",
       " 'BraTS2021_01425',\n",
       " 'BraTS2021_01440',\n",
       " 'BraTS2021_01443',\n",
       " 'BraTS2021_01450',\n",
       " 'BraTS2021_01461',\n",
       " 'BraTS2021_01465',\n",
       " 'BraTS2021_01467',\n",
       " 'BraTS2021_01476',\n",
       " 'BraTS2021_01480',\n",
       " 'BraTS2021_01481',\n",
       " 'BraTS2021_01488',\n",
       " 'BraTS2021_01489',\n",
       " 'BraTS2021_01490',\n",
       " 'BraTS2021_01492',\n",
       " 'BraTS2021_01494',\n",
       " 'BraTS2021_01496',\n",
       " 'BraTS2021_01500',\n",
       " 'BraTS2021_01501',\n",
       " 'BraTS2021_01507',\n",
       " 'BraTS2021_01513',\n",
       " 'BraTS2021_01518',\n",
       " 'BraTS2021_01521',\n",
       " 'BraTS2021_01522',\n",
       " 'BraTS2021_01524',\n",
       " 'BraTS2021_01530',\n",
       " 'BraTS2021_01538',\n",
       " 'BraTS2021_01540',\n",
       " 'BraTS2021_01547',\n",
       " 'BraTS2021_01560',\n",
       " 'BraTS2021_01562',\n",
       " 'BraTS2021_01566',\n",
       " 'BraTS2021_01567',\n",
       " 'BraTS2021_01582',\n",
       " 'BraTS2021_01584',\n",
       " 'BraTS2021_01593',\n",
       " 'BraTS2021_01594',\n",
       " 'BraTS2021_01599',\n",
       " 'BraTS2021_01601',\n",
       " 'BraTS2021_01608',\n",
       " 'BraTS2021_01609',\n",
       " 'BraTS2021_01613',\n",
       " 'BraTS2021_01614',\n",
       " 'BraTS2021_01626',\n",
       " 'BraTS2021_01634',\n",
       " 'BraTS2021_01651',\n",
       " 'BraTS2021_01652',\n",
       " 'BraTS2021_01653',\n",
       " 'BraTS2021_01660',\n",
       " 'BraTS2021_01661',\n",
       " 'BraTS2021_01662']"
      ]
     },
     "execution_count": 18,
     "metadata": {},
     "output_type": "execute_result"
    }
   ],
   "source": [
    "valid_ids"
   ]
  },
  {
   "cell_type": "code",
   "execution_count": 21,
   "id": "3932ef01",
   "metadata": {},
   "outputs": [],
   "source": [
    "for path in Path(PATH_TO_DIR).iterdir():\n",
    "    if path.stem in valid_ids:\n",
    "        shutil.move(path, Path(VALIDATION_PATH) / path.stem)\n",
    "        "
   ]
  },
  {
   "cell_type": "code",
   "execution_count": 4,
   "id": "e9154615",
   "metadata": {},
   "outputs": [
    {
     "data": {
      "text/plain": [
       "'C:\\\\Users\\\\User\\\\Documents\\\\Skolkovo_courses\\\\project\\\\data\\\\dataset\\\\nnUNet_raw_data_base'"
      ]
     },
     "execution_count": 4,
     "metadata": {},
     "output_type": "execute_result"
    }
   ],
   "source": [
    "os.environ['nnUNet_raw_data_base']"
   ]
  },
  {
   "cell_type": "code",
   "execution_count": 3,
   "id": "b74edfa9",
   "metadata": {},
   "outputs": [
    {
     "data": {
      "text/plain": [
       "environ{'ALLUSERSPROFILE': 'C:\\\\ProgramData',\n",
       "        'APPDATA': 'C:\\\\Users\\\\User\\\\AppData\\\\Roaming',\n",
       "        'COMMONPROGRAMFILES': 'C:\\\\Program Files\\\\Common Files',\n",
       "        'COMMONPROGRAMFILES(X86)': 'C:\\\\Program Files (x86)\\\\Common Files',\n",
       "        'COMMONPROGRAMW6432': 'C:\\\\Program Files\\\\Common Files',\n",
       "        'COMPUTERNAME': 'DESKTOP-KRNQ1R2',\n",
       "        'COMSPEC': 'C:\\\\Windows\\\\system32\\\\cmd.exe',\n",
       "        'CONDA_DEFAULT_ENV': 'base',\n",
       "        'CONDA_EXE': 'C:\\\\Users\\\\User\\\\anaconda3\\\\Scripts\\\\conda.exe',\n",
       "        'CONDA_PROMPT_MODIFIER': '(base) ',\n",
       "        'CONDA_PYTHON_EXE': 'C:\\\\Users\\\\User\\\\anaconda3\\\\python.exe',\n",
       "        'CONDA_SHLVL': '1',\n",
       "        'CUDA_PATH': 'C:\\\\Program Files\\\\NVIDIA GPU Computing Toolkit\\\\CUDA\\\\v11.3',\n",
       "        'CUDA_PATH_V11_3': 'C:\\\\Program Files\\\\NVIDIA GPU Computing Toolkit\\\\CUDA\\\\v11.3',\n",
       "        'DRIVERDATA': 'C:\\\\Windows\\\\System32\\\\Drivers\\\\DriverData',\n",
       "        'HOMEDRIVE': 'C:',\n",
       "        'HOMEPATH': '\\\\Users\\\\User',\n",
       "        'LOCALAPPDATA': 'C:\\\\Users\\\\User\\\\AppData\\\\Local',\n",
       "        'LOGONSERVER': '\\\\\\\\DESKTOP-KRNQ1R2',\n",
       "        'NNUNET_PREPROCESSED': 'C:\\\\Users\\\\User\\\\Documents\\\\Skolkovo_courses\\\\project\\\\data\\\\dataset\\\\nnUNet_preprocessed',\n",
       "        'NNUNET_RAW_DATA_BASE': 'C:\\\\Users\\\\User\\\\Documents\\\\Skolkovo_courses\\\\project\\\\data\\\\dataset\\\\nnUNet_raw_data_base',\n",
       "        'NUMBER_OF_PROCESSORS': '16',\n",
       "        'NVCUDASAMPLES11_3_ROOT': 'C:\\\\ProgramData\\\\NVIDIA Corporation\\\\CUDA Samples\\\\v11.3',\n",
       "        'NVCUDASAMPLES_ROOT': 'C:\\\\ProgramData\\\\NVIDIA Corporation\\\\CUDA Samples\\\\v11.3',\n",
       "        'NVTOOLSEXT_PATH': 'C:\\\\Program Files\\\\NVIDIA Corporation\\\\NvToolsExt\\\\',\n",
       "        'ONEDRIVE': 'C:\\\\Users\\\\User\\\\OneDrive',\n",
       "        'OS': 'Windows_NT',\n",
       "        'PATH': 'C:\\\\Users\\\\User\\\\anaconda3;C:\\\\Users\\\\User\\\\anaconda3\\\\Library\\\\mingw-w64\\\\bin;C:\\\\Users\\\\User\\\\anaconda3\\\\Library\\\\usr\\\\bin;C:\\\\Users\\\\User\\\\anaconda3\\\\Library\\\\bin;C:\\\\Users\\\\User\\\\anaconda3\\\\Scripts;C:\\\\Users\\\\User\\\\anaconda3\\\\bin;C:\\\\Users\\\\User\\\\anaconda3\\\\condabin;C:\\\\Users\\\\User\\\\anaconda3;C:\\\\Users\\\\User\\\\anaconda3\\\\Library\\\\mingw-w64\\\\bin;C:\\\\Users\\\\User\\\\anaconda3\\\\Library\\\\usr\\\\bin;C:\\\\Users\\\\User\\\\anaconda3\\\\Library\\\\bin;C:\\\\Users\\\\User\\\\anaconda3\\\\Scripts;C:\\\\Program Files\\\\NVIDIA GPU Computing Toolkit\\\\CUDA\\\\v11.3\\\\bin;C:\\\\Program Files\\\\NVIDIA GPU Computing Toolkit\\\\CUDA\\\\v11.3\\\\libnvvp;C:\\\\Windows\\\\system32;C:\\\\Windows;C:\\\\Windows\\\\System32\\\\Wbem;C:\\\\Windows\\\\System32\\\\WindowsPowerShell\\\\v1.0;C:\\\\Windows\\\\System32\\\\OpenSSH;C:\\\\Program Files (x86)\\\\NVIDIA Corporation\\\\PhysX\\\\Common;C:\\\\Program Files\\\\NVIDIA Corporation\\\\NVIDIA NvDLISR;C:\\\\Program Files\\\\Git\\\\cmd;C:\\\\Program Files\\\\NVIDIA Corporation\\\\Nsight Compute 2021.1.0;C:\\\\Program Files\\\\ITK-SNAP 3.8\\\\bin;C:\\\\Users\\\\User\\\\AppData\\\\Local\\\\Microsoft\\\\WindowsApps;C:\\\\Program Files\\\\ffmpeg\\\\bin;.',\n",
       "        'PATHEXT': '.COM;.EXE;.BAT;.CMD;.VBS;.VBE;.JS;.JSE;.WSF;.WSH;.MSC',\n",
       "        'PROCESSOR_ARCHITECTURE': 'AMD64',\n",
       "        'PROCESSOR_IDENTIFIER': 'Intel64 Family 6 Model 167 Stepping 1, GenuineIntel',\n",
       "        'PROCESSOR_LEVEL': '6',\n",
       "        'PROCESSOR_REVISION': 'a701',\n",
       "        'PROGRAMDATA': 'C:\\\\ProgramData',\n",
       "        'PROGRAMFILES': 'C:\\\\Program Files',\n",
       "        'PROGRAMFILES(X86)': 'C:\\\\Program Files (x86)',\n",
       "        'PROGRAMW6432': 'C:\\\\Program Files',\n",
       "        'PROMPT': '(base) $P$G',\n",
       "        'PSMODULEPATH': 'C:\\\\Program Files\\\\WindowsPowerShell\\\\Modules;C:\\\\Windows\\\\system32\\\\WindowsPowerShell\\\\v1.0\\\\Modules;C:\\\\Program Files\\\\Intel\\\\Wired Networking\\\\',\n",
       "        'PUBLIC': 'C:\\\\Users\\\\Public',\n",
       "        'RESULTS_FOLDER': 'C:\\\\Users\\\\User\\\\Documents\\\\Skolkovo_courses\\\\project\\\\data\\\\dataset\\\\nnUNet_trained_models',\n",
       "        'SESSIONNAME': 'Console',\n",
       "        'SYSTEMDRIVE': 'C:',\n",
       "        'SYSTEMROOT': 'C:\\\\Windows',\n",
       "        'TEMP': 'C:\\\\Users\\\\User\\\\AppData\\\\Local\\\\Temp',\n",
       "        'TMP': 'C:\\\\Users\\\\User\\\\AppData\\\\Local\\\\Temp',\n",
       "        'USERDOMAIN': 'DESKTOP-KRNQ1R2',\n",
       "        'USERDOMAIN_ROAMINGPROFILE': 'DESKTOP-KRNQ1R2',\n",
       "        'USERNAME': 'User',\n",
       "        'USERPROFILE': 'C:\\\\Users\\\\User',\n",
       "        'WINDIR': 'C:\\\\Windows',\n",
       "        'ZES_ENABLE_SYSMAN': '1',\n",
       "        'CONDA_PREFIX': 'C:\\\\Users\\\\User\\\\anaconda3',\n",
       "        'CONDA_ROOT': 'C:\\\\Users\\\\User\\\\anaconda3',\n",
       "        'PYDEVD_USE_FRAME_EVAL': 'NO',\n",
       "        'JPY_INTERRUPT_EVENT': '2252',\n",
       "        'IPY_INTERRUPT_EVENT': '2252',\n",
       "        'JPY_PARENT_PID': '2228',\n",
       "        'TERM': 'xterm-color',\n",
       "        'CLICOLOR': '1',\n",
       "        'PAGER': 'cat',\n",
       "        'GIT_PAGER': 'cat',\n",
       "        'MPLBACKEND': 'module://matplotlib_inline.backend_inline'}"
      ]
     },
     "execution_count": 3,
     "metadata": {},
     "output_type": "execute_result"
    }
   ],
   "source": [
    "os.environ"
   ]
  },
  {
   "cell_type": "code",
   "execution_count": 5,
   "id": "e483091f",
   "metadata": {},
   "outputs": [],
   "source": [
    "from batchgenerators.transforms.color_transforms import ContrastAugmentationTransform"
   ]
  },
  {
   "cell_type": "code",
   "execution_count": 6,
   "id": "8b009936",
   "metadata": {},
   "outputs": [
    {
     "ename": "ImportError",
     "evalue": "cannot import name 'MultiThreadedAugmenter' from 'batchgenerators.dataloading' (C:\\Users\\User\\anaconda3\\lib\\site-packages\\batchgenerators\\dataloading\\__init__.py)",
     "output_type": "error",
     "traceback": [
      "\u001b[1;31m---------------------------------------------------------------------------\u001b[0m",
      "\u001b[1;31mImportError\u001b[0m                               Traceback (most recent call last)",
      "\u001b[1;32m~\\AppData\\Local\\Temp/ipykernel_12916/1252091923.py\u001b[0m in \u001b[0;36m<module>\u001b[1;34m\u001b[0m\n\u001b[1;32m----> 1\u001b[1;33m \u001b[1;32mfrom\u001b[0m \u001b[0mbatchgenerators\u001b[0m\u001b[1;33m.\u001b[0m\u001b[0mdataloading\u001b[0m \u001b[1;32mimport\u001b[0m \u001b[0mMultiThreadedAugmenter\u001b[0m\u001b[1;33m,\u001b[0m \u001b[0mSingleThreadedAugmenter\u001b[0m\u001b[1;33m\u001b[0m\u001b[1;33m\u001b[0m\u001b[0m\n\u001b[0m",
      "\u001b[1;31mImportError\u001b[0m: cannot import name 'MultiThreadedAugmenter' from 'batchgenerators.dataloading' (C:\\Users\\User\\anaconda3\\lib\\site-packages\\batchgenerators\\dataloading\\__init__.py)"
     ]
    }
   ],
   "source": [
    "from batchgenerators.dataloading import MultiThreadedAugmenter, SingleThreadedAugmenter"
   ]
  },
  {
   "cell_type": "code",
   "execution_count": 7,
   "id": "6d7d8e65",
   "metadata": {},
   "outputs": [],
   "source": [
    "import pickle"
   ]
  },
  {
   "cell_type": "code",
   "execution_count": 15,
   "id": "b72eda5d",
   "metadata": {},
   "outputs": [],
   "source": [
    "plans_file =r'C:\\Users\\User\\Documents\\Skolkovo_courses\\project\\data\\dataset\\nnUNet_preprocessed\\Task090_BraTS2021\\dataset_properties.pkl'"
   ]
  },
  {
   "cell_type": "code",
   "execution_count": 19,
   "id": "5d83df2b",
   "metadata": {},
   "outputs": [],
   "source": [
    "plans_file ='data/plans.pkl'"
   ]
  },
  {
   "cell_type": "code",
   "execution_count": 31,
   "id": "867f3634",
   "metadata": {},
   "outputs": [],
   "source": [
    "plans_file =r'C:\\Users\\User\\Documents\\Skolkovo_courses\\project\\data\\dataset\\nnUNet_preprocessed\\Task090_BraTS_2021\\nnUNetPlansv2.1_plans_3D.pkl'"
   ]
  },
  {
   "cell_type": "code",
   "execution_count": 3,
   "id": "39c2046e",
   "metadata": {},
   "outputs": [],
   "source": [
    "def load_pickle(file: str, mode: str = 'rb'):\n",
    "    with open(file, mode) as f:\n",
    "        a = pickle.load(f)\n",
    "    return a"
   ]
  },
  {
   "cell_type": "code",
   "execution_count": 4,
   "id": "ec45735c",
   "metadata": {},
   "outputs": [
    {
     "ename": "NameError",
     "evalue": "name 'plans_file' is not defined",
     "output_type": "error",
     "traceback": [
      "\u001b[1;31m---------------------------------------------------------------------------\u001b[0m",
      "\u001b[1;31mNameError\u001b[0m                                 Traceback (most recent call last)",
      "\u001b[1;32m~\\AppData\\Local\\Temp/ipykernel_10136/2820395665.py\u001b[0m in \u001b[0;36m<module>\u001b[1;34m\u001b[0m\n\u001b[1;32m----> 1\u001b[1;33m \u001b[0mplans\u001b[0m \u001b[1;33m=\u001b[0m \u001b[0mload_pickle\u001b[0m\u001b[1;33m(\u001b[0m\u001b[0mplans_file\u001b[0m\u001b[1;33m)\u001b[0m\u001b[1;33m\u001b[0m\u001b[1;33m\u001b[0m\u001b[0m\n\u001b[0m",
      "\u001b[1;31mNameError\u001b[0m: name 'plans_file' is not defined"
     ]
    }
   ],
   "source": [
    "plans = load_pickle(plans_file)"
   ]
  },
  {
   "cell_type": "code",
   "execution_count": 5,
   "id": "5e3472a7",
   "metadata": {},
   "outputs": [
    {
     "ename": "NameError",
     "evalue": "name 'plans' is not defined",
     "output_type": "error",
     "traceback": [
      "\u001b[1;31m---------------------------------------------------------------------------\u001b[0m",
      "\u001b[1;31mNameError\u001b[0m                                 Traceback (most recent call last)",
      "\u001b[1;32m~\\AppData\\Local\\Temp/ipykernel_10136/3231088982.py\u001b[0m in \u001b[0;36m<module>\u001b[1;34m\u001b[0m\n\u001b[1;32m----> 1\u001b[1;33m \u001b[0mplans\u001b[0m\u001b[1;33m.\u001b[0m\u001b[0mkeys\u001b[0m\u001b[1;33m(\u001b[0m\u001b[1;33m)\u001b[0m\u001b[1;33m\u001b[0m\u001b[1;33m\u001b[0m\u001b[0m\n\u001b[0m",
      "\u001b[1;31mNameError\u001b[0m: name 'plans' is not defined"
     ]
    }
   ],
   "source": [
    "plans.keys()"
   ]
  },
  {
   "cell_type": "code",
   "execution_count": 6,
   "id": "21b75fb6",
   "metadata": {},
   "outputs": [
    {
     "ename": "NameError",
     "evalue": "name 'plans' is not defined",
     "output_type": "error",
     "traceback": [
      "\u001b[1;31m---------------------------------------------------------------------------\u001b[0m",
      "\u001b[1;31mNameError\u001b[0m                                 Traceback (most recent call last)",
      "\u001b[1;32m~\\AppData\\Local\\Temp/ipykernel_10136/37909400.py\u001b[0m in \u001b[0;36m<module>\u001b[1;34m\u001b[0m\n\u001b[1;32m----> 1\u001b[1;33m \u001b[0mplans\u001b[0m\u001b[1;33m[\u001b[0m\u001b[1;34m'num_stages'\u001b[0m\u001b[1;33m]\u001b[0m\u001b[1;33m\u001b[0m\u001b[1;33m\u001b[0m\u001b[0m\n\u001b[0m",
      "\u001b[1;31mNameError\u001b[0m: name 'plans' is not defined"
     ]
    }
   ],
   "source": [
    "plans['num_stages']"
   ]
  },
  {
   "cell_type": "code",
   "execution_count": 1,
   "id": "6ddd0641",
   "metadata": {},
   "outputs": [],
   "source": [
    "plans_all =r'C:\\Users\\User\\Documents\\Skolkovo_courses\\project\\data\\dataset\\nnUNet_preprocessed\\Task090_BraTS2021\\nnUNetPlansv2.1_plans_3D.pkl'"
   ]
  },
  {
   "cell_type": "code",
   "execution_count": 2,
   "id": "8a625a39",
   "metadata": {},
   "outputs": [
    {
     "ename": "NameError",
     "evalue": "name 'load_pickle' is not defined",
     "output_type": "error",
     "traceback": [
      "\u001b[1;31m---------------------------------------------------------------------------\u001b[0m",
      "\u001b[1;31mNameError\u001b[0m                                 Traceback (most recent call last)",
      "\u001b[1;32m~\\AppData\\Local\\Temp/ipykernel_10136/638583621.py\u001b[0m in \u001b[0;36m<module>\u001b[1;34m\u001b[0m\n\u001b[1;32m----> 1\u001b[1;33m \u001b[0mplans_exp\u001b[0m \u001b[1;33m=\u001b[0m \u001b[0mload_pickle\u001b[0m\u001b[1;33m(\u001b[0m\u001b[0mplans_all\u001b[0m\u001b[1;33m)\u001b[0m\u001b[1;33m\u001b[0m\u001b[1;33m\u001b[0m\u001b[0m\n\u001b[0m",
      "\u001b[1;31mNameError\u001b[0m: name 'load_pickle' is not defined"
     ]
    }
   ],
   "source": [
    "plans_exp = load_pickle(plans_all)"
   ]
  },
  {
   "cell_type": "code",
   "execution_count": null,
   "id": "00748098",
   "metadata": {},
   "outputs": [],
   "source": []
  }
 ],
 "metadata": {
  "kernelspec": {
   "display_name": "Python 3 (ipykernel)",
   "language": "python",
   "name": "python3"
  },
  "language_info": {
   "codemirror_mode": {
    "name": "ipython",
    "version": 3
   },
   "file_extension": ".py",
   "mimetype": "text/x-python",
   "name": "python",
   "nbconvert_exporter": "python",
   "pygments_lexer": "ipython3",
   "version": "3.9.7"
  }
 },
 "nbformat": 4,
 "nbformat_minor": 5
}

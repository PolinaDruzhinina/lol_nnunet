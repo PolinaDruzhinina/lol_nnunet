{
 "cells": [
  {
   "cell_type": "code",
   "execution_count": 1,
   "id": "2fcb5365",
   "metadata": {},
   "outputs": [],
   "source": [
    "import pandas as pd\n",
    "tab = pd.read_excel('/data/EGD/metadata/Segmentation_source.xlsx')"
   ]
  },
  {
   "cell_type": "code",
   "execution_count": 3,
   "id": "48628da3",
   "metadata": {},
   "outputs": [
    {
     "data": {
      "text/plain": [
       "374"
      ]
     },
     "execution_count": 3,
     "metadata": {},
     "output_type": "execute_result"
    }
   ],
   "source": [
    "len(tab[tab.Observer != 'AUTO'])"
   ]
  },
  {
   "cell_type": "code",
   "execution_count": null,
   "id": "fb21dad3",
   "metadata": {},
   "outputs": [],
   "source": [
    "beta = 0.5 #The interpolation parameter    \n",
    "params1 = model1.named_parameters()\n",
    "params2 = model2.named_parameters()\n",
    "\n",
    "dict_params2 = dict(params2)\n",
    "\n",
    "for name1, param1 in params1:\n",
    "    if name1 in dict_params2:\n",
    "        dict_params2[name1].data.copy_(beta*param1.data + (1-beta)*dict_params2[name1].data)\n",
    "\n",
    "model.load_state_dict(dict_params2)"
   ]
  },
  {
   "cell_type": "code",
   "execution_count": null,
   "id": "9ba54b84",
   "metadata": {},
   "outputs": [],
   "source": [
    "# Setup\n",
    "modelA = nn.Linear(1, 1)\n",
    "modelB = nn.Linear(1, 1)\n",
    "\n",
    "sdA = modelA.state_dict()\n",
    "sdB = modelB.state_dict()\n",
    "\n",
    "# Average all parameters\n",
    "for key in sdA:\n",
    "    sdB[key] = (sdB[key] + sdA[key]) / 2.\n",
    "\n",
    "# stteRecreate model and load averaged state_dict (or use modelA/B)\n",
    "model = nn.Linear(1, 1)\n",
    "model.load_state_dict(sdB)"
   ]
  },
  {
   "cell_type": "code",
   "execution_count": 2,
   "id": "17ddfe6b",
   "metadata": {},
   "outputs": [],
   "source": [
    "from nnunet.nn_unet import NNUnet\n",
    "from utils.args import get_main_args"
   ]
  },
  {
   "cell_type": "code",
   "execution_count": 19,
   "id": "b3e78f49",
   "metadata": {},
   "outputs": [
    {
     "name": "stdout",
     "output_type": "stream",
     "text": [
      "Global seed set to 1\n",
      "Filters: [64, 96, 128, 192, 256, 384, 512],\n",
      "Kernels: [[3, 3, 3], [3, 3, 3], [3, 3, 3], [3, 3, 3], [3, 3, 3], [3, 3, 3], [3, 3, 3]]\n",
      "Strides: [[1, 1, 1], [2, 2, 2], [2, 2, 2], [2, 2, 2], [2, 2, 2], [2, 2, 2], [2, 2, 2]]\n",
      "Traceback (most recent call last):\n",
      "  File \"main_weights_mean.py\", line 69, in <module>\n",
      "    model = NNUnet(args).load_from_checkpoint(ckpt_path)\n",
      "  File \"/opt/conda/lib/python3.8/site-packages/pytorch_lightning/core/saving.py\", line 157, in load_from_checkpoint\n",
      "    model = cls._load_model_state(checkpoint, strict=strict, **kwargs)\n",
      "  File \"/opt/conda/lib/python3.8/site-packages/pytorch_lightning/core/saving.py\", line 199, in _load_model_state\n",
      "    model = cls(**_cls_kwargs)\n",
      "TypeError: __init__() missing 1 required positional argument: 'args'\n"
     ]
    }
   ],
   "source": [
    "!export CUDA_VISIBLE_DEVICES=1 && python main_weights_mean.py --exec_mode predict --results /home/polina/DeepLearningExamples/PyTorch/Segmentation/nnUNet/results --brats --deep_supervision --depth 6 --filters 64 96 128 192 256 384 512 --min_fmap 2 --scheduler --learning_rate 0.0003 --epochs 150 --nfolds 3 --fold 0 --amp --gpus 1 --task 11 --save_ckpt"
   ]
  },
  {
   "cell_type": "code",
   "execution_count": 4,
   "id": "8a91ae83",
   "metadata": {},
   "outputs": [],
   "source": [
    "import torch\n",
    "ckpt_path1 = '/home/polina/DeepLearningExamples/PyTorch/Segmentation/nnUNet/results/3_fold_brats_2021/fold-0/checkpoints/epoch=135-dice_mean=90.62.ckpt'\n",
    "torch.cuda.set_device(1)\n",
    "# torch.load(ckpt_path1)"
   ]
  },
  {
   "cell_type": "code",
   "execution_count": 6,
   "id": "a94f4fdb",
   "metadata": {},
   "outputs": [],
   "source": [
    "ch = torch.load(ckpt_path1)"
   ]
  },
  {
   "cell_type": "code",
   "execution_count": 16,
   "id": "dd568204",
   "metadata": {},
   "outputs": [],
   "source": [
    "ch['state_dict'] = average_state_dict"
   ]
  },
  {
   "cell_type": "code",
   "execution_count": 18,
   "id": "00e90780",
   "metadata": {},
   "outputs": [],
   "source": [
    "torch.save(ch, '/home/polina/DeepLearningExamples/PyTorch/Segmentation/nnUNet/results/3_fold_brats_2021/avarage_weights_all_dicts.ckpt')"
   ]
  },
  {
   "cell_type": "code",
   "execution_count": 21,
   "id": "f60c5336",
   "metadata": {},
   "outputs": [],
   "source": [
    "!cd /results/brats_infer && mkdir average"
   ]
  },
  {
   "cell_type": "code",
   "execution_count": null,
   "id": "8a38fe3b",
   "metadata": {},
   "outputs": [
    {
     "name": "stdout",
     "output_type": "stream",
     "text": [
      "Global seed set to 1\n",
      "0 training, 0 validation, 1251 test examples\n",
      "Filters: [64, 96, 128, 192, 256, 384, 512],\n",
      "Kernels: [[3, 3, 3], [3, 3, 3], [3, 3, 3], [3, 3, 3], [3, 3, 3], [3, 3, 3], [3, 3, 3]]\n",
      "Strides: [[1, 1, 1], [2, 2, 2], [2, 2, 2], [2, 2, 2], [2, 2, 2], [2, 2, 2], [2, 2, 2]]\n",
      "GPU available: True, used: True\n",
      "TPU available: False, using: 0 TPU cores\n",
      "Using native 16bit precision.\n",
      "LOCAL_RANK: 0 - CUDA_VISIBLE_DEVICES: [0]\n",
      "Testing:  49%|█████████████▎             | 616/1251 [2:01:05<1:57:14, 11.08s/it]"
     ]
    }
   ],
   "source": [
    "!export CUDA_VISIBLE_DEVICES=0 && python main.py --exec_mode predict --task 11 --data /data/11_3d --brats --dim 3 --fold 0 --nfolds 3 --ckpt_path /home/polina/DeepLearningExamples/PyTorch/Segmentation/nnUNet/results/3_fold_brats_2021/avarage_weights_all_dicts.ckpt --results /results/brats_infer/average --amp --tta --save_preds"
   ]
  },
  {
   "cell_type": "code",
   "execution_count": null,
   "id": "65438082",
   "metadata": {},
   "outputs": [],
   "source": []
  }
 ],
 "metadata": {
  "kernelspec": {
   "display_name": "Python 3 (ipykernel)",
   "language": "python",
   "name": "python3"
  },
  "language_info": {
   "codemirror_mode": {
    "name": "ipython",
    "version": 3
   },
   "file_extension": ".py",
   "mimetype": "text/x-python",
   "name": "python",
   "nbconvert_exporter": "python",
   "pygments_lexer": "ipython3",
   "version": "3.8.10"
  }
 },
 "nbformat": 4,
 "nbformat_minor": 5
}
